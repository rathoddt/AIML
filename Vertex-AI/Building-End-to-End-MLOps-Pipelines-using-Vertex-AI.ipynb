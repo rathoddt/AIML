{
 "cells": [
  {
   "cell_type": "code",
   "execution_count": 1,
   "id": "4f494d8d-ce74-43b4-ab4b-317b71964aa2",
   "metadata": {
    "tags": []
   },
   "outputs": [
    {
     "name": "stdout",
     "output_type": "stream",
     "text": [
      "Requirement already satisfied: google-cloud-aiplatform in /opt/conda/lib/python3.10/site-packages (1.79.0)\n",
      "Collecting google-cloud-aiplatform\n",
      "  Downloading google_cloud_aiplatform-1.115.0-py2.py3-none-any.whl.metadata (41 kB)\n",
      "Requirement already satisfied: google-api-core!=2.0.*,!=2.1.*,!=2.2.*,!=2.3.*,!=2.4.*,!=2.5.*,!=2.6.*,!=2.7.*,<3.0.0,>=1.34.1 in /opt/conda/lib/python3.10/site-packages (from google-api-core[grpc]!=2.0.*,!=2.1.*,!=2.2.*,!=2.3.*,!=2.4.*,!=2.5.*,!=2.6.*,!=2.7.*,<3.0.0,>=1.34.1->google-cloud-aiplatform) (1.34.1)\n",
      "Requirement already satisfied: google-auth<3.0.0,>=2.14.1 in /opt/conda/lib/python3.10/site-packages (from google-cloud-aiplatform) (2.38.0)\n",
      "Requirement already satisfied: proto-plus<2.0.0,>=1.22.3 in /opt/conda/lib/python3.10/site-packages (from google-cloud-aiplatform) (1.26.0)\n",
      "Requirement already satisfied: protobuf!=4.21.0,!=4.21.1,!=4.21.2,!=4.21.3,!=4.21.4,!=4.21.5,<7.0.0,>=3.20.2 in /opt/conda/lib/python3.10/site-packages (from google-cloud-aiplatform) (3.20.3)\n",
      "Requirement already satisfied: packaging>=14.3 in /opt/conda/lib/python3.10/site-packages (from google-cloud-aiplatform) (24.2)\n",
      "Requirement already satisfied: google-cloud-storage<3.0.0,>=1.32.0 in /opt/conda/lib/python3.10/site-packages (from google-cloud-aiplatform) (2.14.0)\n",
      "Requirement already satisfied: google-cloud-bigquery!=3.20.0,<4.0.0,>=1.15.0 in /opt/conda/lib/python3.10/site-packages (from google-cloud-aiplatform) (3.25.0)\n",
      "Requirement already satisfied: google-cloud-resource-manager<3.0.0,>=1.3.3 in /opt/conda/lib/python3.10/site-packages (from google-cloud-aiplatform) (1.14.0)\n",
      "Requirement already satisfied: shapely<3.0.0 in /opt/conda/lib/python3.10/site-packages (from google-cloud-aiplatform) (2.0.7)\n",
      "Collecting google-genai<2.0.0,>=1.0.0 (from google-cloud-aiplatform)\n",
      "  Downloading google_genai-1.38.0-py3-none-any.whl.metadata (43 kB)\n",
      "Requirement already satisfied: pydantic<3 in /opt/conda/lib/python3.10/site-packages (from google-cloud-aiplatform) (1.10.21)\n",
      "Requirement already satisfied: typing_extensions in /opt/conda/lib/python3.10/site-packages (from google-cloud-aiplatform) (4.12.2)\n",
      "Requirement already satisfied: docstring_parser<1 in /opt/conda/lib/python3.10/site-packages (from google-cloud-aiplatform) (0.16)\n",
      "Requirement already satisfied: googleapis-common-protos<2.0dev,>=1.56.2 in /opt/conda/lib/python3.10/site-packages (from google-api-core!=2.0.*,!=2.1.*,!=2.2.*,!=2.3.*,!=2.4.*,!=2.5.*,!=2.6.*,!=2.7.*,<3.0.0,>=1.34.1->google-api-core[grpc]!=2.0.*,!=2.1.*,!=2.2.*,!=2.3.*,!=2.4.*,!=2.5.*,!=2.6.*,!=2.7.*,<3.0.0,>=1.34.1->google-cloud-aiplatform) (1.66.0)\n",
      "Requirement already satisfied: requests<3.0.0dev,>=2.18.0 in /opt/conda/lib/python3.10/site-packages (from google-api-core!=2.0.*,!=2.1.*,!=2.2.*,!=2.3.*,!=2.4.*,!=2.5.*,!=2.6.*,!=2.7.*,<3.0.0,>=1.34.1->google-api-core[grpc]!=2.0.*,!=2.1.*,!=2.2.*,!=2.3.*,!=2.4.*,!=2.5.*,!=2.6.*,!=2.7.*,<3.0.0,>=1.34.1->google-cloud-aiplatform) (2.32.3)\n",
      "Requirement already satisfied: grpcio<2.0dev,>=1.33.2 in /opt/conda/lib/python3.10/site-packages (from google-api-core[grpc]!=2.0.*,!=2.1.*,!=2.2.*,!=2.3.*,!=2.4.*,!=2.5.*,!=2.6.*,!=2.7.*,<3.0.0,>=1.34.1->google-cloud-aiplatform) (1.65.5)\n",
      "Requirement already satisfied: grpcio-status<2.0dev,>=1.33.2 in /opt/conda/lib/python3.10/site-packages (from google-api-core[grpc]!=2.0.*,!=2.1.*,!=2.2.*,!=2.3.*,!=2.4.*,!=2.5.*,!=2.6.*,!=2.7.*,<3.0.0,>=1.34.1->google-cloud-aiplatform) (1.49.0rc1)\n",
      "Requirement already satisfied: cachetools<6.0,>=2.0.0 in /opt/conda/lib/python3.10/site-packages (from google-auth<3.0.0,>=2.14.1->google-cloud-aiplatform) (4.2.4)\n",
      "Requirement already satisfied: pyasn1-modules>=0.2.1 in /opt/conda/lib/python3.10/site-packages (from google-auth<3.0.0,>=2.14.1->google-cloud-aiplatform) (0.4.1)\n",
      "Requirement already satisfied: rsa<5,>=3.1.4 in /opt/conda/lib/python3.10/site-packages (from google-auth<3.0.0,>=2.14.1->google-cloud-aiplatform) (4.9)\n",
      "Requirement already satisfied: google-cloud-core<3.0.0dev,>=1.6.0 in /opt/conda/lib/python3.10/site-packages (from google-cloud-bigquery!=3.20.0,<4.0.0,>=1.15.0->google-cloud-aiplatform) (2.4.1)\n",
      "Requirement already satisfied: google-resumable-media<3.0dev,>=0.6.0 in /opt/conda/lib/python3.10/site-packages (from google-cloud-bigquery!=3.20.0,<4.0.0,>=1.15.0->google-cloud-aiplatform) (2.7.2)\n",
      "Requirement already satisfied: python-dateutil<3.0dev,>=2.7.2 in /opt/conda/lib/python3.10/site-packages (from google-cloud-bigquery!=3.20.0,<4.0.0,>=1.15.0->google-cloud-aiplatform) (2.9.0.post0)\n",
      "Requirement already satisfied: grpc-google-iam-v1<1.0.0dev,>=0.12.4 in /opt/conda/lib/python3.10/site-packages (from google-cloud-resource-manager<3.0.0,>=1.3.3->google-cloud-aiplatform) (0.12.7)\n",
      "Requirement already satisfied: google-crc32c<2.0dev,>=1.0 in /opt/conda/lib/python3.10/site-packages (from google-cloud-storage<3.0.0,>=1.32.0->google-cloud-aiplatform) (1.6.0)\n",
      "Requirement already satisfied: anyio<5.0.0,>=4.8.0 in /opt/conda/lib/python3.10/site-packages (from google-genai<2.0.0,>=1.0.0->google-cloud-aiplatform) (4.8.0)\n",
      "Collecting httpx<1.0.0,>=0.28.1 (from google-genai<2.0.0,>=1.0.0->google-cloud-aiplatform)\n",
      "  Downloading httpx-0.28.1-py3-none-any.whl.metadata (7.1 kB)\n",
      "Collecting pydantic<3 (from google-cloud-aiplatform)\n",
      "  Downloading pydantic-2.11.9-py3-none-any.whl.metadata (68 kB)\n",
      "Requirement already satisfied: tenacity<9.2.0,>=8.2.3 in /opt/conda/lib/python3.10/site-packages (from google-genai<2.0.0,>=1.0.0->google-cloud-aiplatform) (9.0.0)\n",
      "Requirement already satisfied: websockets<15.1.0,>=13.0.0 in /opt/conda/lib/python3.10/site-packages (from google-genai<2.0.0,>=1.0.0->google-cloud-aiplatform) (14.2)\n",
      "Collecting annotated-types>=0.6.0 (from pydantic<3->google-cloud-aiplatform)\n",
      "  Downloading annotated_types-0.7.0-py3-none-any.whl.metadata (15 kB)\n",
      "Collecting pydantic-core==2.33.2 (from pydantic<3->google-cloud-aiplatform)\n",
      "  Downloading pydantic_core-2.33.2-cp310-cp310-manylinux_2_17_x86_64.manylinux2014_x86_64.whl.metadata (6.8 kB)\n",
      "Collecting typing-inspection>=0.4.0 (from pydantic<3->google-cloud-aiplatform)\n",
      "  Downloading typing_inspection-0.4.1-py3-none-any.whl.metadata (2.6 kB)\n",
      "Requirement already satisfied: numpy<3,>=1.14 in /opt/conda/lib/python3.10/site-packages (from shapely<3.0.0->google-cloud-aiplatform) (1.24.4)\n",
      "Requirement already satisfied: exceptiongroup>=1.0.2 in /opt/conda/lib/python3.10/site-packages (from anyio<5.0.0,>=4.8.0->google-genai<2.0.0,>=1.0.0->google-cloud-aiplatform) (1.2.2)\n",
      "Requirement already satisfied: idna>=2.8 in /opt/conda/lib/python3.10/site-packages (from anyio<5.0.0,>=4.8.0->google-genai<2.0.0,>=1.0.0->google-cloud-aiplatform) (3.10)\n",
      "Requirement already satisfied: sniffio>=1.1 in /opt/conda/lib/python3.10/site-packages (from anyio<5.0.0,>=4.8.0->google-genai<2.0.0,>=1.0.0->google-cloud-aiplatform) (1.3.1)\n",
      "Requirement already satisfied: certifi in /opt/conda/lib/python3.10/site-packages (from httpx<1.0.0,>=0.28.1->google-genai<2.0.0,>=1.0.0->google-cloud-aiplatform) (2024.12.14)\n",
      "Collecting httpcore==1.* (from httpx<1.0.0,>=0.28.1->google-genai<2.0.0,>=1.0.0->google-cloud-aiplatform)\n",
      "  Downloading httpcore-1.0.9-py3-none-any.whl.metadata (21 kB)\n",
      "Collecting h11>=0.16 (from httpcore==1.*->httpx<1.0.0,>=0.28.1->google-genai<2.0.0,>=1.0.0->google-cloud-aiplatform)\n",
      "  Downloading h11-0.16.0-py3-none-any.whl.metadata (8.3 kB)\n",
      "Requirement already satisfied: pyasn1<0.7.0,>=0.4.6 in /opt/conda/lib/python3.10/site-packages (from pyasn1-modules>=0.2.1->google-auth<3.0.0,>=2.14.1->google-cloud-aiplatform) (0.6.1)\n",
      "Requirement already satisfied: six>=1.5 in /opt/conda/lib/python3.10/site-packages (from python-dateutil<3.0dev,>=2.7.2->google-cloud-bigquery!=3.20.0,<4.0.0,>=1.15.0->google-cloud-aiplatform) (1.17.0)\n",
      "Requirement already satisfied: charset_normalizer<4,>=2 in /opt/conda/lib/python3.10/site-packages (from requests<3.0.0dev,>=2.18.0->google-api-core!=2.0.*,!=2.1.*,!=2.2.*,!=2.3.*,!=2.4.*,!=2.5.*,!=2.6.*,!=2.7.*,<3.0.0,>=1.34.1->google-api-core[grpc]!=2.0.*,!=2.1.*,!=2.2.*,!=2.3.*,!=2.4.*,!=2.5.*,!=2.6.*,!=2.7.*,<3.0.0,>=1.34.1->google-cloud-aiplatform) (3.4.1)\n",
      "Requirement already satisfied: urllib3<3,>=1.21.1 in /opt/conda/lib/python3.10/site-packages (from requests<3.0.0dev,>=2.18.0->google-api-core!=2.0.*,!=2.1.*,!=2.2.*,!=2.3.*,!=2.4.*,!=2.5.*,!=2.6.*,!=2.7.*,<3.0.0,>=1.34.1->google-api-core[grpc]!=2.0.*,!=2.1.*,!=2.2.*,!=2.3.*,!=2.4.*,!=2.5.*,!=2.6.*,!=2.7.*,<3.0.0,>=1.34.1->google-cloud-aiplatform) (1.26.20)\n",
      "Downloading google_cloud_aiplatform-1.115.0-py2.py3-none-any.whl (8.0 MB)\n",
      "\u001b[2K   \u001b[90m━━━━━━━━━━━━━━━━━━━━━━━━━━━━━━━━━━━━━━━━\u001b[0m \u001b[32m8.0/8.0 MB\u001b[0m \u001b[31m43.7 MB/s\u001b[0m eta \u001b[36m0:00:00\u001b[0m\n",
      "\u001b[?25hDownloading google_genai-1.38.0-py3-none-any.whl (245 kB)\n",
      "Downloading pydantic-2.11.9-py3-none-any.whl (444 kB)\n",
      "Downloading pydantic_core-2.33.2-cp310-cp310-manylinux_2_17_x86_64.manylinux2014_x86_64.whl (2.0 MB)\n",
      "\u001b[2K   \u001b[90m━━━━━━━━━━━━━━━━━━━━━━━━━━━━━━━━━━━━━━━━\u001b[0m \u001b[32m2.0/2.0 MB\u001b[0m \u001b[31m78.2 MB/s\u001b[0m eta \u001b[36m0:00:00\u001b[0m\n",
      "\u001b[?25hDownloading annotated_types-0.7.0-py3-none-any.whl (13 kB)\n",
      "Downloading httpx-0.28.1-py3-none-any.whl (73 kB)\n",
      "Downloading httpcore-1.0.9-py3-none-any.whl (78 kB)\n",
      "Downloading typing_inspection-0.4.1-py3-none-any.whl (14 kB)\n",
      "Downloading h11-0.16.0-py3-none-any.whl (37 kB)\n",
      "Installing collected packages: typing-inspection, pydantic-core, h11, annotated-types, pydantic, httpcore, httpx, google-genai, google-cloud-aiplatform\n",
      "\u001b[33m  WARNING: The script httpx is installed in '/home/jupyter/.local/bin' which is not on PATH.\n",
      "  Consider adding this directory to PATH or, if you prefer to suppress this warning, use --no-warn-script-location.\u001b[0m\u001b[33m\n",
      "\u001b[0m\u001b[33m  WARNING: The script tb-gcp-uploader is installed in '/home/jupyter/.local/bin' which is not on PATH.\n",
      "  Consider adding this directory to PATH or, if you prefer to suppress this warning, use --no-warn-script-location.\u001b[0m\u001b[33m\n",
      "\u001b[0m\u001b[31mERROR: pip's dependency resolver does not currently take into account all the packages that are installed. This behaviour is the source of the following dependency conflicts.\n",
      "dataproc-jupyter-plugin 0.1.80 requires pydantic~=1.10.0, but you have pydantic 2.11.9 which is incompatible.\n",
      "ydata-profiling 4.6.0 requires pydantic<2,>=1.8.1, but you have pydantic 2.11.9 which is incompatible.\u001b[0m\u001b[31m\n",
      "\u001b[0mSuccessfully installed annotated-types-0.7.0 google-cloud-aiplatform-1.115.0 google-genai-1.38.0 h11-0.16.0 httpcore-1.0.9 httpx-0.28.1 pydantic-2.11.9 pydantic-core-2.33.2 typing-inspection-0.4.1\n",
      "\n",
      "\u001b[1m[\u001b[0m\u001b[34;49mnotice\u001b[0m\u001b[1;39;49m]\u001b[0m\u001b[39;49m A new release of pip is available: \u001b[0m\u001b[31;49m25.0\u001b[0m\u001b[39;49m -> \u001b[0m\u001b[32;49m25.2\u001b[0m\n",
      "\u001b[1m[\u001b[0m\u001b[34;49mnotice\u001b[0m\u001b[1;39;49m]\u001b[0m\u001b[39;49m To update, run: \u001b[0m\u001b[32;49mpip install --upgrade pip\u001b[0m\n",
      "Collecting kfp==2.4.0\n",
      "  Downloading kfp-2.4.0.tar.gz (392 kB)\n",
      "  Preparing metadata (setup.py) ... \u001b[?25ldone\n",
      "\u001b[?25hCollecting google-cloud-pipeline-components\n",
      "  Downloading google_cloud_pipeline_components-2.20.1-py3-none-any.whl.metadata (6.2 kB)\n",
      "Requirement already satisfied: click<9,>=8.0.0 in /opt/conda/lib/python3.10/site-packages (from kfp==2.4.0) (8.1.8)\n",
      "Requirement already satisfied: docstring-parser<1,>=0.7.3 in /opt/conda/lib/python3.10/site-packages (from kfp==2.4.0) (0.16)\n",
      "Requirement already satisfied: google-api-core!=2.0.*,!=2.1.*,!=2.2.*,!=2.3.0,<3.0.0dev,>=1.31.5 in /opt/conda/lib/python3.10/site-packages (from kfp==2.4.0) (1.34.1)\n",
      "Requirement already satisfied: google-auth<3,>=1.6.1 in /opt/conda/lib/python3.10/site-packages (from kfp==2.4.0) (2.38.0)\n",
      "Requirement already satisfied: google-cloud-storage<3,>=2.2.1 in /opt/conda/lib/python3.10/site-packages (from kfp==2.4.0) (2.14.0)\n",
      "Requirement already satisfied: kfp-pipeline-spec==0.2.2 in /opt/conda/lib/python3.10/site-packages (from kfp==2.4.0) (0.2.2)\n",
      "Requirement already satisfied: kfp-server-api<2.1.0,>=2.0.0 in /opt/conda/lib/python3.10/site-packages (from kfp==2.4.0) (2.0.5)\n",
      "Requirement already satisfied: kubernetes<27,>=8.0.0 in /opt/conda/lib/python3.10/site-packages (from kfp==2.4.0) (26.1.0)\n",
      "Requirement already satisfied: protobuf<4,>=3.13.0 in /opt/conda/lib/python3.10/site-packages (from kfp==2.4.0) (3.20.3)\n",
      "Requirement already satisfied: PyYAML<7,>=5.3 in /opt/conda/lib/python3.10/site-packages (from kfp==2.4.0) (6.0.2)\n",
      "Requirement already satisfied: requests-toolbelt<1,>=0.8.0 in /opt/conda/lib/python3.10/site-packages (from kfp==2.4.0) (0.10.1)\n",
      "Requirement already satisfied: tabulate<1,>=0.8.6 in /opt/conda/lib/python3.10/site-packages (from kfp==2.4.0) (0.9.0)\n",
      "Requirement already satisfied: urllib3<2.0.0 in /opt/conda/lib/python3.10/site-packages (from kfp==2.4.0) (1.26.20)\n",
      "INFO: pip is looking at multiple versions of google-cloud-pipeline-components to determine which version is compatible with other requirements. This could take a while.\n",
      "  Downloading google_cloud_pipeline_components-2.20.0-py3-none-any.whl.metadata (5.9 kB)\n",
      "  Downloading google_cloud_pipeline_components-2.19.0-py3-none-any.whl.metadata (6.0 kB)\n",
      "  Downloading google_cloud_pipeline_components-2.18.0-py3-none-any.whl.metadata (6.0 kB)\n",
      "  Downloading google_cloud_pipeline_components-2.17.0-py3-none-any.whl.metadata (5.9 kB)\n",
      "  Downloading google_cloud_pipeline_components-2.16.1-py3-none-any.whl.metadata (5.8 kB)\n",
      "  Downloading google_cloud_pipeline_components-2.16.0-py3-none-any.whl.metadata (5.8 kB)\n",
      "  Downloading google_cloud_pipeline_components-2.15.0-py3-none-any.whl.metadata (5.8 kB)\n",
      "Requirement already satisfied: Jinja2<4,>=3.1.2 in /opt/conda/lib/python3.10/site-packages (from google-cloud-pipeline-components) (3.1.5)\n",
      "Requirement already satisfied: google-cloud-aiplatform<2,>=1.14.0 in ./.local/lib/python3.10/site-packages (from google-cloud-pipeline-components) (1.115.0)\n",
      "INFO: pip is still looking at multiple versions of google-cloud-pipeline-components to determine which version is compatible with other requirements. This could take a while.\n",
      "  Downloading google_cloud_pipeline_components-2.14.1-py3-none-any.whl.metadata (5.9 kB)\n",
      "  Downloading google_cloud_pipeline_components-2.14.0-py3-none-any.whl.metadata (5.9 kB)\n",
      "  Downloading google_cloud_pipeline_components-2.13.1-py3-none-any.whl.metadata (5.9 kB)\n",
      "  Downloading google_cloud_pipeline_components-2.13.0-py3-none-any.whl.metadata (5.9 kB)\n",
      "  Downloading google_cloud_pipeline_components-2.12.0-py3-none-any.whl.metadata (5.9 kB)\n",
      "INFO: This is taking longer than usual. You might need to provide the dependency resolver with stricter constraints to reduce runtime. See https://pip.pypa.io/warnings/backtracking for guidance. If you want to abort this run, press Ctrl + C.\n",
      "  Downloading google_cloud_pipeline_components-2.11.0-py3-none-any.whl.metadata (5.9 kB)\n",
      "  Downloading google_cloud_pipeline_components-2.10.0-py3-none-any.whl.metadata (5.9 kB)\n",
      "  Downloading google_cloud_pipeline_components-2.9.0-py3-none-any.whl.metadata (5.8 kB)\n",
      "  Downloading google_cloud_pipeline_components-2.8.0-py3-none-any.whl.metadata (5.9 kB)\n",
      "Collecting Jinja2==3.1.2 (from google-cloud-pipeline-components)\n",
      "  Downloading Jinja2-3.1.2-py3-none-any.whl.metadata (3.5 kB)\n",
      "Requirement already satisfied: MarkupSafe>=2.0 in /opt/conda/lib/python3.10/site-packages (from Jinja2==3.1.2->google-cloud-pipeline-components) (3.0.2)\n",
      "Requirement already satisfied: googleapis-common-protos<2.0dev,>=1.56.2 in /opt/conda/lib/python3.10/site-packages (from google-api-core!=2.0.*,!=2.1.*,!=2.2.*,!=2.3.0,<3.0.0dev,>=1.31.5->kfp==2.4.0) (1.66.0)\n",
      "Requirement already satisfied: requests<3.0.0dev,>=2.18.0 in /opt/conda/lib/python3.10/site-packages (from google-api-core!=2.0.*,!=2.1.*,!=2.2.*,!=2.3.0,<3.0.0dev,>=1.31.5->kfp==2.4.0) (2.32.3)\n",
      "Requirement already satisfied: cachetools<6.0,>=2.0.0 in /opt/conda/lib/python3.10/site-packages (from google-auth<3,>=1.6.1->kfp==2.4.0) (4.2.4)\n",
      "Requirement already satisfied: pyasn1-modules>=0.2.1 in /opt/conda/lib/python3.10/site-packages (from google-auth<3,>=1.6.1->kfp==2.4.0) (0.4.1)\n",
      "Requirement already satisfied: rsa<5,>=3.1.4 in /opt/conda/lib/python3.10/site-packages (from google-auth<3,>=1.6.1->kfp==2.4.0) (4.9)\n",
      "Requirement already satisfied: proto-plus<2.0.0,>=1.22.3 in /opt/conda/lib/python3.10/site-packages (from google-cloud-aiplatform<2,>=1.14.0->google-cloud-pipeline-components) (1.26.0)\n",
      "Requirement already satisfied: packaging>=14.3 in /opt/conda/lib/python3.10/site-packages (from google-cloud-aiplatform<2,>=1.14.0->google-cloud-pipeline-components) (24.2)\n",
      "Requirement already satisfied: google-cloud-bigquery!=3.20.0,<4.0.0,>=1.15.0 in /opt/conda/lib/python3.10/site-packages (from google-cloud-aiplatform<2,>=1.14.0->google-cloud-pipeline-components) (3.25.0)\n",
      "Requirement already satisfied: google-cloud-resource-manager<3.0.0,>=1.3.3 in /opt/conda/lib/python3.10/site-packages (from google-cloud-aiplatform<2,>=1.14.0->google-cloud-pipeline-components) (1.14.0)\n",
      "Requirement already satisfied: shapely<3.0.0 in /opt/conda/lib/python3.10/site-packages (from google-cloud-aiplatform<2,>=1.14.0->google-cloud-pipeline-components) (2.0.7)\n",
      "Requirement already satisfied: google-genai<2.0.0,>=1.0.0 in ./.local/lib/python3.10/site-packages (from google-cloud-aiplatform<2,>=1.14.0->google-cloud-pipeline-components) (1.38.0)\n",
      "Requirement already satisfied: pydantic<3 in ./.local/lib/python3.10/site-packages (from google-cloud-aiplatform<2,>=1.14.0->google-cloud-pipeline-components) (2.11.9)\n",
      "Requirement already satisfied: typing_extensions in /opt/conda/lib/python3.10/site-packages (from google-cloud-aiplatform<2,>=1.14.0->google-cloud-pipeline-components) (4.12.2)\n",
      "Requirement already satisfied: google-cloud-core<3.0dev,>=2.3.0 in /opt/conda/lib/python3.10/site-packages (from google-cloud-storage<3,>=2.2.1->kfp==2.4.0) (2.4.1)\n",
      "Requirement already satisfied: google-resumable-media>=2.6.0 in /opt/conda/lib/python3.10/site-packages (from google-cloud-storage<3,>=2.2.1->kfp==2.4.0) (2.7.2)\n",
      "Requirement already satisfied: google-crc32c<2.0dev,>=1.0 in /opt/conda/lib/python3.10/site-packages (from google-cloud-storage<3,>=2.2.1->kfp==2.4.0) (1.6.0)\n",
      "Requirement already satisfied: six>=1.10 in /opt/conda/lib/python3.10/site-packages (from kfp-server-api<2.1.0,>=2.0.0->kfp==2.4.0) (1.17.0)\n",
      "Requirement already satisfied: certifi in /opt/conda/lib/python3.10/site-packages (from kfp-server-api<2.1.0,>=2.0.0->kfp==2.4.0) (2024.12.14)\n",
      "Requirement already satisfied: python-dateutil in /opt/conda/lib/python3.10/site-packages (from kfp-server-api<2.1.0,>=2.0.0->kfp==2.4.0) (2.9.0.post0)\n",
      "Requirement already satisfied: setuptools>=21.0.0 in /opt/conda/lib/python3.10/site-packages (from kubernetes<27,>=8.0.0->kfp==2.4.0) (75.8.0)\n",
      "Requirement already satisfied: websocket-client!=0.40.0,!=0.41.*,!=0.42.*,>=0.32.0 in /opt/conda/lib/python3.10/site-packages (from kubernetes<27,>=8.0.0->kfp==2.4.0) (1.8.0)\n",
      "Requirement already satisfied: requests-oauthlib in /opt/conda/lib/python3.10/site-packages (from kubernetes<27,>=8.0.0->kfp==2.4.0) (2.0.0)\n",
      "Requirement already satisfied: grpcio<2.0dev,>=1.33.2 in /opt/conda/lib/python3.10/site-packages (from google-api-core[grpc]!=2.0.*,!=2.1.*,!=2.2.*,!=2.3.*,!=2.4.*,!=2.5.*,!=2.6.*,!=2.7.*,<3.0.0,>=1.34.1->google-cloud-aiplatform<2,>=1.14.0->google-cloud-pipeline-components) (1.65.5)\n",
      "Requirement already satisfied: grpcio-status<2.0dev,>=1.33.2 in /opt/conda/lib/python3.10/site-packages (from google-api-core[grpc]!=2.0.*,!=2.1.*,!=2.2.*,!=2.3.*,!=2.4.*,!=2.5.*,!=2.6.*,!=2.7.*,<3.0.0,>=1.34.1->google-cloud-aiplatform<2,>=1.14.0->google-cloud-pipeline-components) (1.49.0rc1)\n",
      "Requirement already satisfied: grpc-google-iam-v1<1.0.0dev,>=0.12.4 in /opt/conda/lib/python3.10/site-packages (from google-cloud-resource-manager<3.0.0,>=1.3.3->google-cloud-aiplatform<2,>=1.14.0->google-cloud-pipeline-components) (0.12.7)\n",
      "Requirement already satisfied: anyio<5.0.0,>=4.8.0 in /opt/conda/lib/python3.10/site-packages (from google-genai<2.0.0,>=1.0.0->google-cloud-aiplatform<2,>=1.14.0->google-cloud-pipeline-components) (4.8.0)\n",
      "Requirement already satisfied: httpx<1.0.0,>=0.28.1 in ./.local/lib/python3.10/site-packages (from google-genai<2.0.0,>=1.0.0->google-cloud-aiplatform<2,>=1.14.0->google-cloud-pipeline-components) (0.28.1)\n",
      "Requirement already satisfied: tenacity<9.2.0,>=8.2.3 in /opt/conda/lib/python3.10/site-packages (from google-genai<2.0.0,>=1.0.0->google-cloud-aiplatform<2,>=1.14.0->google-cloud-pipeline-components) (9.0.0)\n",
      "Requirement already satisfied: websockets<15.1.0,>=13.0.0 in /opt/conda/lib/python3.10/site-packages (from google-genai<2.0.0,>=1.0.0->google-cloud-aiplatform<2,>=1.14.0->google-cloud-pipeline-components) (14.2)\n",
      "Requirement already satisfied: pyasn1<0.7.0,>=0.4.6 in /opt/conda/lib/python3.10/site-packages (from pyasn1-modules>=0.2.1->google-auth<3,>=1.6.1->kfp==2.4.0) (0.6.1)\n",
      "Requirement already satisfied: annotated-types>=0.6.0 in ./.local/lib/python3.10/site-packages (from pydantic<3->google-cloud-aiplatform<2,>=1.14.0->google-cloud-pipeline-components) (0.7.0)\n",
      "Requirement already satisfied: pydantic-core==2.33.2 in ./.local/lib/python3.10/site-packages (from pydantic<3->google-cloud-aiplatform<2,>=1.14.0->google-cloud-pipeline-components) (2.33.2)\n",
      "Requirement already satisfied: typing-inspection>=0.4.0 in ./.local/lib/python3.10/site-packages (from pydantic<3->google-cloud-aiplatform<2,>=1.14.0->google-cloud-pipeline-components) (0.4.1)\n",
      "Requirement already satisfied: charset_normalizer<4,>=2 in /opt/conda/lib/python3.10/site-packages (from requests<3.0.0dev,>=2.18.0->google-api-core!=2.0.*,!=2.1.*,!=2.2.*,!=2.3.0,<3.0.0dev,>=1.31.5->kfp==2.4.0) (3.4.1)\n",
      "Requirement already satisfied: idna<4,>=2.5 in /opt/conda/lib/python3.10/site-packages (from requests<3.0.0dev,>=2.18.0->google-api-core!=2.0.*,!=2.1.*,!=2.2.*,!=2.3.0,<3.0.0dev,>=1.31.5->kfp==2.4.0) (3.10)\n",
      "Requirement already satisfied: numpy<3,>=1.14 in /opt/conda/lib/python3.10/site-packages (from shapely<3.0.0->google-cloud-aiplatform<2,>=1.14.0->google-cloud-pipeline-components) (1.24.4)\n",
      "Requirement already satisfied: oauthlib>=3.0.0 in /opt/conda/lib/python3.10/site-packages (from requests-oauthlib->kubernetes<27,>=8.0.0->kfp==2.4.0) (3.2.2)\n",
      "Requirement already satisfied: exceptiongroup>=1.0.2 in /opt/conda/lib/python3.10/site-packages (from anyio<5.0.0,>=4.8.0->google-genai<2.0.0,>=1.0.0->google-cloud-aiplatform<2,>=1.14.0->google-cloud-pipeline-components) (1.2.2)\n",
      "Requirement already satisfied: sniffio>=1.1 in /opt/conda/lib/python3.10/site-packages (from anyio<5.0.0,>=4.8.0->google-genai<2.0.0,>=1.0.0->google-cloud-aiplatform<2,>=1.14.0->google-cloud-pipeline-components) (1.3.1)\n",
      "Requirement already satisfied: httpcore==1.* in ./.local/lib/python3.10/site-packages (from httpx<1.0.0,>=0.28.1->google-genai<2.0.0,>=1.0.0->google-cloud-aiplatform<2,>=1.14.0->google-cloud-pipeline-components) (1.0.9)\n",
      "Requirement already satisfied: h11>=0.16 in ./.local/lib/python3.10/site-packages (from httpcore==1.*->httpx<1.0.0,>=0.28.1->google-genai<2.0.0,>=1.0.0->google-cloud-aiplatform<2,>=1.14.0->google-cloud-pipeline-components) (0.16.0)\n",
      "Downloading google_cloud_pipeline_components-2.8.0-py3-none-any.whl (1.4 MB)\n",
      "\u001b[2K   \u001b[90m━━━━━━━━━━━━━━━━━━━━━━━━━━━━━━━━━━━━━━━━\u001b[0m \u001b[32m1.4/1.4 MB\u001b[0m \u001b[31m29.0 MB/s\u001b[0m eta \u001b[36m0:00:00\u001b[0m\n",
      "\u001b[?25hDownloading Jinja2-3.1.2-py3-none-any.whl (133 kB)\n",
      "Building wheels for collected packages: kfp\n",
      "  Building wheel for kfp (setup.py) ... \u001b[?25ldone\n",
      "\u001b[?25h  Created wheel for kfp: filename=kfp-2.4.0-py3-none-any.whl size=543034 sha256=711df38da14c1e8efa2833955001e8805605f85e342ca4e9add830987138c538\n",
      "  Stored in directory: /home/jupyter/.cache/pip/wheels/8f/68/87/2a7654c22807614c76ea1aefcdd6205a0f2035e64b958934ac\n",
      "Successfully built kfp\n",
      "Installing collected packages: Jinja2, kfp, google-cloud-pipeline-components\n",
      "\u001b[33m  WARNING: The scripts dsl-compile, dsl-compile-deprecated and kfp are installed in '/home/jupyter/.local/bin' which is not on PATH.\n",
      "  Consider adding this directory to PATH or, if you prefer to suppress this warning, use --no-warn-script-location.\u001b[0m\u001b[33m\n",
      "\u001b[0m\u001b[31mERROR: pip's dependency resolver does not currently take into account all the packages that are installed. This behaviour is the source of the following dependency conflicts.\n",
      "ydata-profiling 4.6.0 requires pydantic<2,>=1.8.1, but you have pydantic 2.11.9 which is incompatible.\u001b[0m\u001b[31m\n",
      "\u001b[0mSuccessfully installed Jinja2-3.1.2 google-cloud-pipeline-components-2.8.0 kfp-2.4.0\n",
      "\n",
      "\u001b[1m[\u001b[0m\u001b[34;49mnotice\u001b[0m\u001b[1;39;49m]\u001b[0m\u001b[39;49m A new release of pip is available: \u001b[0m\u001b[31;49m25.0\u001b[0m\u001b[39;49m -> \u001b[0m\u001b[32;49m25.2\u001b[0m\n",
      "\u001b[1m[\u001b[0m\u001b[34;49mnotice\u001b[0m\u001b[1;39;49m]\u001b[0m\u001b[39;49m To update, run: \u001b[0m\u001b[32;49mpip install --upgrade pip\u001b[0m\n",
      "Requirement already satisfied: gcsfs in /opt/conda/lib/python3.10/site-packages (2025.2.0)\n",
      "Requirement already satisfied: aiohttp!=4.0.0a0,!=4.0.0a1 in /opt/conda/lib/python3.10/site-packages (from gcsfs) (3.9.5)\n",
      "Requirement already satisfied: decorator>4.1.2 in /opt/conda/lib/python3.10/site-packages (from gcsfs) (5.1.1)\n",
      "Requirement already satisfied: fsspec==2025.2.0 in /opt/conda/lib/python3.10/site-packages (from gcsfs) (2025.2.0)\n",
      "Requirement already satisfied: google-auth>=1.2 in /opt/conda/lib/python3.10/site-packages (from gcsfs) (2.38.0)\n",
      "Requirement already satisfied: google-auth-oauthlib in /opt/conda/lib/python3.10/site-packages (from gcsfs) (1.2.1)\n",
      "Requirement already satisfied: google-cloud-storage in /opt/conda/lib/python3.10/site-packages (from gcsfs) (2.14.0)\n",
      "Requirement already satisfied: requests in /opt/conda/lib/python3.10/site-packages (from gcsfs) (2.32.3)\n",
      "Requirement already satisfied: aiosignal>=1.1.2 in /opt/conda/lib/python3.10/site-packages (from aiohttp!=4.0.0a0,!=4.0.0a1->gcsfs) (1.3.2)\n",
      "Requirement already satisfied: attrs>=17.3.0 in /opt/conda/lib/python3.10/site-packages (from aiohttp!=4.0.0a0,!=4.0.0a1->gcsfs) (25.1.0)\n",
      "Requirement already satisfied: frozenlist>=1.1.1 in /opt/conda/lib/python3.10/site-packages (from aiohttp!=4.0.0a0,!=4.0.0a1->gcsfs) (1.5.0)\n",
      "Requirement already satisfied: multidict<7.0,>=4.5 in /opt/conda/lib/python3.10/site-packages (from aiohttp!=4.0.0a0,!=4.0.0a1->gcsfs) (6.1.0)\n",
      "Requirement already satisfied: yarl<2.0,>=1.0 in /opt/conda/lib/python3.10/site-packages (from aiohttp!=4.0.0a0,!=4.0.0a1->gcsfs) (1.18.3)\n",
      "Requirement already satisfied: async-timeout<5.0,>=4.0 in /opt/conda/lib/python3.10/site-packages (from aiohttp!=4.0.0a0,!=4.0.0a1->gcsfs) (4.0.3)\n",
      "Requirement already satisfied: cachetools<6.0,>=2.0.0 in /opt/conda/lib/python3.10/site-packages (from google-auth>=1.2->gcsfs) (4.2.4)\n",
      "Requirement already satisfied: pyasn1-modules>=0.2.1 in /opt/conda/lib/python3.10/site-packages (from google-auth>=1.2->gcsfs) (0.4.1)\n",
      "Requirement already satisfied: rsa<5,>=3.1.4 in /opt/conda/lib/python3.10/site-packages (from google-auth>=1.2->gcsfs) (4.9)\n",
      "Requirement already satisfied: requests-oauthlib>=0.7.0 in /opt/conda/lib/python3.10/site-packages (from google-auth-oauthlib->gcsfs) (2.0.0)\n",
      "Requirement already satisfied: google-api-core!=2.0.*,!=2.1.*,!=2.2.*,!=2.3.0,<3.0.0dev,>=1.31.5 in /opt/conda/lib/python3.10/site-packages (from google-cloud-storage->gcsfs) (1.34.1)\n",
      "Requirement already satisfied: google-cloud-core<3.0dev,>=2.3.0 in /opt/conda/lib/python3.10/site-packages (from google-cloud-storage->gcsfs) (2.4.1)\n",
      "Requirement already satisfied: google-resumable-media>=2.6.0 in /opt/conda/lib/python3.10/site-packages (from google-cloud-storage->gcsfs) (2.7.2)\n",
      "Requirement already satisfied: google-crc32c<2.0dev,>=1.0 in /opt/conda/lib/python3.10/site-packages (from google-cloud-storage->gcsfs) (1.6.0)\n",
      "Requirement already satisfied: charset_normalizer<4,>=2 in /opt/conda/lib/python3.10/site-packages (from requests->gcsfs) (3.4.1)\n",
      "Requirement already satisfied: idna<4,>=2.5 in /opt/conda/lib/python3.10/site-packages (from requests->gcsfs) (3.10)\n",
      "Requirement already satisfied: urllib3<3,>=1.21.1 in /opt/conda/lib/python3.10/site-packages (from requests->gcsfs) (1.26.20)\n",
      "Requirement already satisfied: certifi>=2017.4.17 in /opt/conda/lib/python3.10/site-packages (from requests->gcsfs) (2024.12.14)\n",
      "Requirement already satisfied: googleapis-common-protos<2.0dev,>=1.56.2 in /opt/conda/lib/python3.10/site-packages (from google-api-core!=2.0.*,!=2.1.*,!=2.2.*,!=2.3.0,<3.0.0dev,>=1.31.5->google-cloud-storage->gcsfs) (1.66.0)\n",
      "Requirement already satisfied: protobuf!=3.20.0,!=3.20.1,!=4.21.0,!=4.21.1,!=4.21.2,!=4.21.3,!=4.21.4,!=4.21.5,<4.0.0dev,>=3.19.5 in /opt/conda/lib/python3.10/site-packages (from google-api-core!=2.0.*,!=2.1.*,!=2.2.*,!=2.3.0,<3.0.0dev,>=1.31.5->google-cloud-storage->gcsfs) (3.20.3)\n",
      "Requirement already satisfied: typing-extensions>=4.1.0 in /opt/conda/lib/python3.10/site-packages (from multidict<7.0,>=4.5->aiohttp!=4.0.0a0,!=4.0.0a1->gcsfs) (4.12.2)\n",
      "Requirement already satisfied: pyasn1<0.7.0,>=0.4.6 in /opt/conda/lib/python3.10/site-packages (from pyasn1-modules>=0.2.1->google-auth>=1.2->gcsfs) (0.6.1)\n",
      "Requirement already satisfied: oauthlib>=3.0.0 in /opt/conda/lib/python3.10/site-packages (from requests-oauthlib>=0.7.0->google-auth-oauthlib->gcsfs) (3.2.2)\n",
      "Requirement already satisfied: propcache>=0.2.0 in /opt/conda/lib/python3.10/site-packages (from yarl<2.0,>=1.0->aiohttp!=4.0.0a0,!=4.0.0a1->gcsfs) (0.2.1)\n",
      "\n",
      "\u001b[1m[\u001b[0m\u001b[34;49mnotice\u001b[0m\u001b[1;39;49m]\u001b[0m\u001b[39;49m A new release of pip is available: \u001b[0m\u001b[31;49m25.0\u001b[0m\u001b[39;49m -> \u001b[0m\u001b[32;49m25.2\u001b[0m\n",
      "\u001b[1m[\u001b[0m\u001b[34;49mnotice\u001b[0m\u001b[1;39;49m]\u001b[0m\u001b[39;49m To update, run: \u001b[0m\u001b[32;49mpip install --upgrade pip\u001b[0m\n",
      "Requirement already satisfied: google-cloud-aiplatform in ./.local/lib/python3.10/site-packages (1.115.0)\n",
      "Requirement already satisfied: shapely>2 in /opt/conda/lib/python3.10/site-packages (2.0.7)\n",
      "Collecting shapely>2\n",
      "  Downloading shapely-2.1.1-cp310-cp310-manylinux_2_17_x86_64.manylinux2014_x86_64.whl.metadata (6.7 kB)\n",
      "Requirement already satisfied: google-api-core!=2.0.*,!=2.1.*,!=2.2.*,!=2.3.*,!=2.4.*,!=2.5.*,!=2.6.*,!=2.7.*,<3.0.0,>=1.34.1 in /opt/conda/lib/python3.10/site-packages (from google-api-core[grpc]!=2.0.*,!=2.1.*,!=2.2.*,!=2.3.*,!=2.4.*,!=2.5.*,!=2.6.*,!=2.7.*,<3.0.0,>=1.34.1->google-cloud-aiplatform) (1.34.1)\n",
      "Requirement already satisfied: google-auth<3.0.0,>=2.14.1 in /opt/conda/lib/python3.10/site-packages (from google-cloud-aiplatform) (2.38.0)\n",
      "Requirement already satisfied: proto-plus<2.0.0,>=1.22.3 in /opt/conda/lib/python3.10/site-packages (from google-cloud-aiplatform) (1.26.0)\n",
      "Requirement already satisfied: protobuf!=4.21.0,!=4.21.1,!=4.21.2,!=4.21.3,!=4.21.4,!=4.21.5,<7.0.0,>=3.20.2 in /opt/conda/lib/python3.10/site-packages (from google-cloud-aiplatform) (3.20.3)\n",
      "Requirement already satisfied: packaging>=14.3 in /opt/conda/lib/python3.10/site-packages (from google-cloud-aiplatform) (24.2)\n",
      "Requirement already satisfied: google-cloud-storage<3.0.0,>=1.32.0 in /opt/conda/lib/python3.10/site-packages (from google-cloud-aiplatform) (2.14.0)\n",
      "Requirement already satisfied: google-cloud-bigquery!=3.20.0,<4.0.0,>=1.15.0 in /opt/conda/lib/python3.10/site-packages (from google-cloud-aiplatform) (3.25.0)\n",
      "Requirement already satisfied: google-cloud-resource-manager<3.0.0,>=1.3.3 in /opt/conda/lib/python3.10/site-packages (from google-cloud-aiplatform) (1.14.0)\n",
      "Requirement already satisfied: google-genai<2.0.0,>=1.0.0 in ./.local/lib/python3.10/site-packages (from google-cloud-aiplatform) (1.38.0)\n",
      "Requirement already satisfied: pydantic<3 in ./.local/lib/python3.10/site-packages (from google-cloud-aiplatform) (2.11.9)\n",
      "Requirement already satisfied: typing_extensions in /opt/conda/lib/python3.10/site-packages (from google-cloud-aiplatform) (4.12.2)\n",
      "Requirement already satisfied: docstring_parser<1 in /opt/conda/lib/python3.10/site-packages (from google-cloud-aiplatform) (0.16)\n",
      "Requirement already satisfied: numpy>=1.21 in /opt/conda/lib/python3.10/site-packages (from shapely>2) (1.24.4)\n",
      "Requirement already satisfied: googleapis-common-protos<2.0dev,>=1.56.2 in /opt/conda/lib/python3.10/site-packages (from google-api-core!=2.0.*,!=2.1.*,!=2.2.*,!=2.3.*,!=2.4.*,!=2.5.*,!=2.6.*,!=2.7.*,<3.0.0,>=1.34.1->google-api-core[grpc]!=2.0.*,!=2.1.*,!=2.2.*,!=2.3.*,!=2.4.*,!=2.5.*,!=2.6.*,!=2.7.*,<3.0.0,>=1.34.1->google-cloud-aiplatform) (1.66.0)\n",
      "Requirement already satisfied: requests<3.0.0dev,>=2.18.0 in /opt/conda/lib/python3.10/site-packages (from google-api-core!=2.0.*,!=2.1.*,!=2.2.*,!=2.3.*,!=2.4.*,!=2.5.*,!=2.6.*,!=2.7.*,<3.0.0,>=1.34.1->google-api-core[grpc]!=2.0.*,!=2.1.*,!=2.2.*,!=2.3.*,!=2.4.*,!=2.5.*,!=2.6.*,!=2.7.*,<3.0.0,>=1.34.1->google-cloud-aiplatform) (2.32.3)\n",
      "Requirement already satisfied: grpcio<2.0dev,>=1.33.2 in /opt/conda/lib/python3.10/site-packages (from google-api-core[grpc]!=2.0.*,!=2.1.*,!=2.2.*,!=2.3.*,!=2.4.*,!=2.5.*,!=2.6.*,!=2.7.*,<3.0.0,>=1.34.1->google-cloud-aiplatform) (1.65.5)\n",
      "Requirement already satisfied: grpcio-status<2.0dev,>=1.33.2 in /opt/conda/lib/python3.10/site-packages (from google-api-core[grpc]!=2.0.*,!=2.1.*,!=2.2.*,!=2.3.*,!=2.4.*,!=2.5.*,!=2.6.*,!=2.7.*,<3.0.0,>=1.34.1->google-cloud-aiplatform) (1.49.0rc1)\n",
      "Requirement already satisfied: cachetools<6.0,>=2.0.0 in /opt/conda/lib/python3.10/site-packages (from google-auth<3.0.0,>=2.14.1->google-cloud-aiplatform) (4.2.4)\n",
      "Requirement already satisfied: pyasn1-modules>=0.2.1 in /opt/conda/lib/python3.10/site-packages (from google-auth<3.0.0,>=2.14.1->google-cloud-aiplatform) (0.4.1)\n",
      "Requirement already satisfied: rsa<5,>=3.1.4 in /opt/conda/lib/python3.10/site-packages (from google-auth<3.0.0,>=2.14.1->google-cloud-aiplatform) (4.9)\n",
      "Requirement already satisfied: google-cloud-core<3.0.0dev,>=1.6.0 in /opt/conda/lib/python3.10/site-packages (from google-cloud-bigquery!=3.20.0,<4.0.0,>=1.15.0->google-cloud-aiplatform) (2.4.1)\n",
      "Requirement already satisfied: google-resumable-media<3.0dev,>=0.6.0 in /opt/conda/lib/python3.10/site-packages (from google-cloud-bigquery!=3.20.0,<4.0.0,>=1.15.0->google-cloud-aiplatform) (2.7.2)\n",
      "Requirement already satisfied: python-dateutil<3.0dev,>=2.7.2 in /opt/conda/lib/python3.10/site-packages (from google-cloud-bigquery!=3.20.0,<4.0.0,>=1.15.0->google-cloud-aiplatform) (2.9.0.post0)\n",
      "Requirement already satisfied: grpc-google-iam-v1<1.0.0dev,>=0.12.4 in /opt/conda/lib/python3.10/site-packages (from google-cloud-resource-manager<3.0.0,>=1.3.3->google-cloud-aiplatform) (0.12.7)\n",
      "Requirement already satisfied: google-crc32c<2.0dev,>=1.0 in /opt/conda/lib/python3.10/site-packages (from google-cloud-storage<3.0.0,>=1.32.0->google-cloud-aiplatform) (1.6.0)\n",
      "Requirement already satisfied: anyio<5.0.0,>=4.8.0 in /opt/conda/lib/python3.10/site-packages (from google-genai<2.0.0,>=1.0.0->google-cloud-aiplatform) (4.8.0)\n",
      "Requirement already satisfied: httpx<1.0.0,>=0.28.1 in ./.local/lib/python3.10/site-packages (from google-genai<2.0.0,>=1.0.0->google-cloud-aiplatform) (0.28.1)\n",
      "Requirement already satisfied: tenacity<9.2.0,>=8.2.3 in /opt/conda/lib/python3.10/site-packages (from google-genai<2.0.0,>=1.0.0->google-cloud-aiplatform) (9.0.0)\n",
      "Requirement already satisfied: websockets<15.1.0,>=13.0.0 in /opt/conda/lib/python3.10/site-packages (from google-genai<2.0.0,>=1.0.0->google-cloud-aiplatform) (14.2)\n",
      "Requirement already satisfied: annotated-types>=0.6.0 in ./.local/lib/python3.10/site-packages (from pydantic<3->google-cloud-aiplatform) (0.7.0)\n",
      "Requirement already satisfied: pydantic-core==2.33.2 in ./.local/lib/python3.10/site-packages (from pydantic<3->google-cloud-aiplatform) (2.33.2)\n",
      "Requirement already satisfied: typing-inspection>=0.4.0 in ./.local/lib/python3.10/site-packages (from pydantic<3->google-cloud-aiplatform) (0.4.1)\n",
      "Requirement already satisfied: exceptiongroup>=1.0.2 in /opt/conda/lib/python3.10/site-packages (from anyio<5.0.0,>=4.8.0->google-genai<2.0.0,>=1.0.0->google-cloud-aiplatform) (1.2.2)\n",
      "Requirement already satisfied: idna>=2.8 in /opt/conda/lib/python3.10/site-packages (from anyio<5.0.0,>=4.8.0->google-genai<2.0.0,>=1.0.0->google-cloud-aiplatform) (3.10)\n",
      "Requirement already satisfied: sniffio>=1.1 in /opt/conda/lib/python3.10/site-packages (from anyio<5.0.0,>=4.8.0->google-genai<2.0.0,>=1.0.0->google-cloud-aiplatform) (1.3.1)\n",
      "Requirement already satisfied: certifi in /opt/conda/lib/python3.10/site-packages (from httpx<1.0.0,>=0.28.1->google-genai<2.0.0,>=1.0.0->google-cloud-aiplatform) (2024.12.14)\n",
      "Requirement already satisfied: httpcore==1.* in ./.local/lib/python3.10/site-packages (from httpx<1.0.0,>=0.28.1->google-genai<2.0.0,>=1.0.0->google-cloud-aiplatform) (1.0.9)\n",
      "Requirement already satisfied: h11>=0.16 in ./.local/lib/python3.10/site-packages (from httpcore==1.*->httpx<1.0.0,>=0.28.1->google-genai<2.0.0,>=1.0.0->google-cloud-aiplatform) (0.16.0)\n",
      "Requirement already satisfied: pyasn1<0.7.0,>=0.4.6 in /opt/conda/lib/python3.10/site-packages (from pyasn1-modules>=0.2.1->google-auth<3.0.0,>=2.14.1->google-cloud-aiplatform) (0.6.1)\n",
      "Requirement already satisfied: six>=1.5 in /opt/conda/lib/python3.10/site-packages (from python-dateutil<3.0dev,>=2.7.2->google-cloud-bigquery!=3.20.0,<4.0.0,>=1.15.0->google-cloud-aiplatform) (1.17.0)\n",
      "Requirement already satisfied: charset_normalizer<4,>=2 in /opt/conda/lib/python3.10/site-packages (from requests<3.0.0dev,>=2.18.0->google-api-core!=2.0.*,!=2.1.*,!=2.2.*,!=2.3.*,!=2.4.*,!=2.5.*,!=2.6.*,!=2.7.*,<3.0.0,>=1.34.1->google-api-core[grpc]!=2.0.*,!=2.1.*,!=2.2.*,!=2.3.*,!=2.4.*,!=2.5.*,!=2.6.*,!=2.7.*,<3.0.0,>=1.34.1->google-cloud-aiplatform) (3.4.1)\n",
      "Requirement already satisfied: urllib3<3,>=1.21.1 in /opt/conda/lib/python3.10/site-packages (from requests<3.0.0dev,>=2.18.0->google-api-core!=2.0.*,!=2.1.*,!=2.2.*,!=2.3.*,!=2.4.*,!=2.5.*,!=2.6.*,!=2.7.*,<3.0.0,>=1.34.1->google-api-core[grpc]!=2.0.*,!=2.1.*,!=2.2.*,!=2.3.*,!=2.4.*,!=2.5.*,!=2.6.*,!=2.7.*,<3.0.0,>=1.34.1->google-cloud-aiplatform) (1.26.20)\n",
      "Downloading shapely-2.1.1-cp310-cp310-manylinux_2_17_x86_64.manylinux2014_x86_64.whl (3.1 MB)\n",
      "\u001b[2K   \u001b[90m━━━━━━━━━━━━━━━━━━━━━━━━━━━━━━━━━━━━━━━━\u001b[0m \u001b[32m3.1/3.1 MB\u001b[0m \u001b[31m50.7 MB/s\u001b[0m eta \u001b[36m0:00:00\u001b[0m\n",
      "\u001b[?25hInstalling collected packages: shapely\n",
      "  Attempting uninstall: shapely\n",
      "    Found existing installation: shapely 2.0.7\n",
      "    Uninstalling shapely-2.0.7:\n",
      "      Successfully uninstalled shapely-2.0.7\n",
      "\u001b[33m  WARNING: Failed to remove contents in a temporary directory '/opt/conda/lib/python3.10/site-packages/~hapely'.\n",
      "  You can safely remove it manually.\u001b[0m\u001b[33m\n",
      "\u001b[0mSuccessfully installed shapely-2.1.1\n",
      "\n",
      "\u001b[1m[\u001b[0m\u001b[34;49mnotice\u001b[0m\u001b[1;39;49m]\u001b[0m\u001b[39;49m A new release of pip is available: \u001b[0m\u001b[31;49m25.0\u001b[0m\u001b[39;49m -> \u001b[0m\u001b[32;49m25.2\u001b[0m\n",
      "\u001b[1m[\u001b[0m\u001b[34;49mnotice\u001b[0m\u001b[1;39;49m]\u001b[0m\u001b[39;49m To update, run: \u001b[0m\u001b[32;49mpip install --upgrade pip\u001b[0m\n"
     ]
    }
   ],
   "source": [
    "USER_FLAG = \"--user\"\n",
    "!pip3 install {USER_FLAG} google-cloud-aiplatform --upgrade\n",
    "!pip3 install {USER_FLAG} kfp==2.4.0 google-cloud-pipeline-components\n",
    "!pip3 install {USER_FLAG} gcsfs\n",
    "!pip install -U google-cloud-aiplatform \"shapely>2\""
   ]
  },
  {
   "cell_type": "code",
   "execution_count": 2,
   "id": "d7c94e8b-bf96-43ec-ad94-88af0701b7b3",
   "metadata": {
    "tags": []
   },
   "outputs": [],
   "source": [
    "import os\n",
    "\n",
    "if not os.getenv(\"IS_TESTING\"):\n",
    "    # Automatically restart kernel after installs\n",
    "    import IPython\n",
    "\n",
    "    app = IPython.Application.instance()\n",
    "    app.kernel.do_shutdown(True)\n"
   ]
  },
  {
   "cell_type": "code",
   "execution_count": 1,
   "id": "f93f80ef-c757-4c0e-a660-c00dc17a8b16",
   "metadata": {
    "tags": []
   },
   "outputs": [
    {
     "name": "stdout",
     "output_type": "stream",
     "text": [
      "KFP SDK version: 2.4.0\n",
      "google_cloud_pipeline_components version: 2.8.0\n"
     ]
    }
   ],
   "source": [
    "!python3 -c \"import kfp; print('KFP SDK version: {}'.format(kfp.__version__))\"\n",
    "!python3 -c \"import google_cloud_pipeline_components; print('google_cloud_pipeline_components version: {}'.format(google_cloud_pipeline_components.__version__))\"\n"
   ]
  },
  {
   "cell_type": "code",
   "execution_count": 2,
   "id": "cdfe2697-1ad1-4130-af87-0152c7a54d07",
   "metadata": {
    "tags": []
   },
   "outputs": [
    {
     "name": "stdout",
     "output_type": "stream",
     "text": [
      "Project ID:  qwiklabs-gcp-00-49e29e0e97ec\n"
     ]
    }
   ],
   "source": [
    "import os\n",
    "PROJECT_ID = \"\"\n",
    "if not os.getenv(\"IS_TESTING\"):\n",
    "    shell_output=!gcloud config list --format 'value(core.project)' 2>/dev/null\n",
    "    PROJECT_ID = shell_output[0]\n",
    "    print(\"Project ID: \", PROJECT_ID)\n"
   ]
  },
  {
   "cell_type": "code",
   "execution_count": 3,
   "id": "b3b9607c-4b4e-4b69-a1e7-30834033d0d5",
   "metadata": {
    "tags": []
   },
   "outputs": [],
   "source": [
    "BUCKET_NAME=\"gs://\" + PROJECT_ID + \"-bucket\"\n"
   ]
  },
  {
   "cell_type": "code",
   "execution_count": 4,
   "id": "20a4fc70-c705-4ada-97ae-aeb08880dfa3",
   "metadata": {
    "tags": []
   },
   "outputs": [
    {
     "name": "stdout",
     "output_type": "stream",
     "text": [
      "--2025-09-20 06:50:48--  https://storage.googleapis.com/partner-usecase-bucket/ucase009/Bike-Sharing-Dataset.zip\n",
      "Resolving storage.googleapis.com (storage.googleapis.com)... 142.250.125.207, 142.251.189.207, 209.85.200.207, ...\n",
      "Connecting to storage.googleapis.com (storage.googleapis.com)|142.250.125.207|:443... connected.\n",
      "HTTP request sent, awaiting response... 200 OK\n",
      "Length: 279992 (273K) [application/zip]\n",
      "Saving to: ‘Bike-Sharing-Dataset.zip’\n",
      "\n",
      "Bike-Sharing-Datase 100%[===================>] 273.43K  --.-KB/s    in 0.003s  \n",
      "\n",
      "2025-09-20 06:50:49 (83.3 MB/s) - ‘Bike-Sharing-Dataset.zip’ saved [279992/279992]\n",
      "\n"
     ]
    }
   ],
   "source": [
    "!wget https://storage.googleapis.com/partner-usecase-bucket/ucase009/Bike-Sharing-Dataset.zip\n"
   ]
  },
  {
   "cell_type": "code",
   "execution_count": 5,
   "id": "46d5eb9e-8fd9-4aee-ac81-e056570efa4b",
   "metadata": {
    "tags": []
   },
   "outputs": [],
   "source": [
    "!unzip -q Bike-Sharing-Dataset.zip -d data\n"
   ]
  },
  {
   "cell_type": "code",
   "execution_count": 6,
   "id": "256eb7b4-7176-4fe8-8db8-6feae68103ae",
   "metadata": {
    "tags": []
   },
   "outputs": [
    {
     "name": "stdout",
     "output_type": "stream",
     "text": [
      "Copying file://./data/hour.csv [Content-Type=text/csv]...\n",
      "/ [1 files][  1.1 MiB/  1.1 MiB]                                                \n",
      "Operation completed over 1 objects/1.1 MiB.                                      \n"
     ]
    }
   ],
   "source": [
    "! gsutil cp ./data/hour.csv $BUCKET_NAME\n"
   ]
  },
  {
   "cell_type": "code",
   "execution_count": 7,
   "id": "88d61ebb-a8ea-45b6-9665-33be366c7a5b",
   "metadata": {
    "tags": []
   },
   "outputs": [
    {
     "name": "stdout",
     "output_type": "stream",
     "text": [
      "   1156736  2025-09-20T06:50:57Z  gs://qwiklabs-gcp-00-49e29e0e97ec-bucket/hour.csv#1758351057410731  metageneration=1\n",
      "TOTAL: 1 objects, 1156736 bytes (1.1 MiB)\n"
     ]
    }
   ],
   "source": [
    "! gsutil ls -al $BUCKET_NAME\n"
   ]
  },
  {
   "cell_type": "code",
   "execution_count": 8,
   "id": "c645ffea-208b-47b3-b729-667c1b96031d",
   "metadata": {
    "tags": []
   },
   "outputs": [],
   "source": [
    "import os\n",
    "import pprint as pp\n",
    "import sys\n",
    "\n",
    "import pickle\n",
    "import os\n",
    "import argparse\n",
    "\n",
    "from sklearn.ensemble import RandomForestRegressor\n",
    "from sklearn.metrics import mean_absolute_error,r2_score,mean_squared_error,mean_absolute_percentage_error\n",
    "import numpy as np\n",
    "import pandas as pd\n",
    "\n",
    "from google.cloud import storage\n",
    "from google.cloud import aiplatform \n"
   ]
  },
  {
   "cell_type": "code",
   "execution_count": null,
   "id": "a8cf12bf-52f4-4448-bf22-2e0b929f0bf2",
   "metadata": {
    "tags": []
   },
   "outputs": [],
   "source": [
    "url = BUCKET_NAME+\"/hour.csv\"\n",
    "data = pd.read_csv(url)\n",
    "data.head()\n"
   ]
  },
  {
   "cell_type": "code",
   "execution_count": null,
   "id": "2d898648-9954-4a1a-ba72-5e7077a100b9",
   "metadata": {
    "tags": []
   },
   "outputs": [],
   "source": [
    "modelling_columns = [\"season\" \n",
    "                     , \"yr\" \n",
    "                     ,\"mnth\" \n",
    "                     ,\"hr\" \n",
    "                     ,\"holiday\" \n",
    "                     , \"weekday\" \n",
    "                     , \"workingday\" \n",
    "                     , \"weathersit\" \n",
    "                     , \"temp\" \n",
    "                     , \"atemp\" \n",
    "                     , \"hum\" \n",
    "                     , \"windspeed\" \n",
    "                     , \"casual\" \n",
    "                     , \"registered\" \n",
    "                     , \"cnt\"\n",
    "                    ]\n",
    "data = data[modelling_columns]\n"
   ]
  },
  {
   "cell_type": "code",
   "execution_count": null,
   "id": "171f8eb7-d07e-4fda-b3a2-4d1be5e9b307",
   "metadata": {
    "tags": []
   },
   "outputs": [],
   "source": [
    "train_size = 0.8\n",
    "test_size = 0.1\n",
    "valid_size = 0.1\n",
    "\n",
    "train_ds, valid_ds, test_ds = np.split(data.sample(frac=1, random_state=42), [int((train_size)*len(data)), int((1-test_size)*len(data))])\n"
   ]
  },
  {
   "cell_type": "code",
   "execution_count": null,
   "id": "98a4b98e-4fe8-43c2-81c3-39ba23d07bc9",
   "metadata": {
    "tags": []
   },
   "outputs": [],
   "source": [
    "target = \"cnt\"\n",
    "\n",
    "x_train = train_ds.drop(columns=target, axis=1)\n",
    "y_train = train_ds[target]\n",
    "\n",
    "x_valid = valid_ds.drop(columns=target, axis=1)\n",
    "y_valid = valid_ds[target]\n",
    "\n",
    "x_test = test_ds.drop(columns=target, axis=1)\n",
    "y_test = test_ds[target]\n"
   ]
  },
  {
   "cell_type": "code",
   "execution_count": null,
   "id": "360fd733-2cc5-45cf-9a79-19b61c2a1710",
   "metadata": {
    "tags": []
   },
   "outputs": [],
   "source": [
    "model = RandomForestRegressor()\n",
    "model.fit(x_train , y_train)\n"
   ]
  },
  {
   "cell_type": "code",
   "execution_count": null,
   "id": "71d71389-be70-47e6-b354-ee572df62876",
   "metadata": {
    "tags": []
   },
   "outputs": [],
   "source": [
    "y_pred = model.predict(x_valid)\n",
    "\n",
    "#evaluate Model\n",
    "adj_r2 = r2_score(y_true=y_valid, y_pred=y_pred)\n",
    "mae = mean_absolute_error(y_true=y_valid, y_pred=y_pred)\n",
    "mse = mean_squared_error(y_true=y_valid, y_pred=y_pred)\n",
    "mape = mean_absolute_percentage_error(y_true=y_valid, y_pred=y_pred)\n",
    "rmse = np.sqrt(mse)\n",
    "print(f\"Adjusted R2 : {adj_r2}\")\n",
    "print(f\"Mean Absolute Error : {mae}\")\n",
    "print(f\"Mean Absolute Percentage Error : {round(mape,4)*100}%\")\n",
    "print(f\"Mean Squared Error : {mse}\")\n",
    "print(f\"Root Mean Squared Error : {rmse}\")\n"
   ]
  },
  {
   "cell_type": "code",
   "execution_count": null,
   "id": "9193ad29-fe9a-4e0e-bc2a-a2a1cd22607c",
   "metadata": {
    "tags": []
   },
   "outputs": [],
   "source": [
    "MODEL_PATH=BUCKET_NAME+\"/models/\"\n",
    "model_path = \"./\" + \"model.pkl\"\n",
    "with open(model_path, 'wb') as file:  \n",
    "    pickle.dump(model, file) \n",
    "    \n",
    "#copy model artifacts to GCS storage\n",
    "!gsutil cp \"model.pkl\" $MODEL_PATH\n"
   ]
  },
  {
   "cell_type": "code",
   "execution_count": null,
   "id": "61793949-c12e-4025-8c68-2f3dc99700ec",
   "metadata": {
    "tags": []
   },
   "outputs": [],
   "source": [
    "#Prediction containers list available at : https://cloud.google.com/vertex-ai/docs/predictions/pre-built-containers\n",
    "serving_container_uri = \"us-docker.pkg.dev/vertex-ai/prediction/sklearn-cpu.1-3:latest\"\n",
    "\n",
    "#define GCS location for model artifacts\n",
    "artifact_uri = MODEL_PATH\n",
    "\n",
    "#Upload Model to Vertex AI Model Registry using Python SDK\n",
    "model = aiplatform.Model.upload(display_name= \"MLOps0-model\" ,\n",
    "                                    artifact_uri=artifact_uri,\n",
    "                                    serving_container_image_uri=serving_container_uri)\n"
   ]
  },
  {
   "cell_type": "code",
   "execution_count": null,
   "id": "9f5e1bf9-6a4b-4500-a9ef-625ffdb4b081",
   "metadata": {
    "tags": []
   },
   "outputs": [],
   "source": [
    "#Create the model endpoint using Python SDK\n",
    "endpoint = model.deploy(machine_type=\"n1-standard-4\",\n",
    "                        min_replica_count=1,\n",
    "                        max_replica_count=1)\n"
   ]
  },
  {
   "cell_type": "code",
   "execution_count": null,
   "id": "3fd33ac5-36da-4cbc-ae80-25ede2a1d027",
   "metadata": {
    "tags": []
   },
   "outputs": [],
   "source": [
    "#Test the model endpoint using Python SDK\n",
    "\n",
    "#create list to hold request data\n",
    "instances = [\n",
    "    [1.0, 0.0, 1.0, 0.0, 0.0, 6.0, 0.0, 1.0, 0.24, 0.2879, 0.81, 0.0, 3.0, 13.0],\n",
    "  ]\n",
    "\n",
    "prediction = endpoint.predict(instances=instances)\n",
    "\n",
    "print(prediction)\n"
   ]
  },
  {
   "cell_type": "code",
   "execution_count": null,
   "id": "d4fea83c-aed6-4c08-9727-2a18c4b399b7",
   "metadata": {
    "tags": []
   },
   "outputs": [],
   "source": [
    "# Undeploy the model and delete the endpoint\n",
    "endpoint.undeploy_all()\n",
    "endpoint.delete()\n",
    "model.delete()\n"
   ]
  },
  {
   "cell_type": "code",
   "execution_count": 9,
   "id": "20323463-c1d7-41a8-8992-e6ab35c7e70c",
   "metadata": {
    "tags": []
   },
   "outputs": [],
   "source": [
    "from typing import NamedTuple\n",
    "\n",
    "import kfp\n",
    "from kfp import dsl\n",
    "from kfp.dsl import (Artifact, Dataset, Input, InputPath, Model, Output,\n",
    "                        OutputPath, component , ClassificationMetrics , Metrics)\n",
    "\n",
    "from kfp import compiler\n",
    "from kfp.components import load_component_from_file\n",
    "\n",
    "import json\n",
    "import yaml\n",
    "\n"
   ]
  },
  {
   "cell_type": "code",
   "execution_count": 10,
   "id": "102e5f0e-d903-40cf-87ce-fbe10435470d",
   "metadata": {
    "tags": []
   },
   "outputs": [],
   "source": [
    "!mkdir components\n"
   ]
  },
  {
   "cell_type": "code",
   "execution_count": 11,
   "id": "4dcd8c24-eb64-4079-8cfa-d797aa5e636c",
   "metadata": {
    "tags": []
   },
   "outputs": [
    {
     "name": "stdout",
     "output_type": "stream",
     "text": [
      "Bike-Sharing-Dataset.zip  Level-0.ipynb  components  data\n"
     ]
    }
   ],
   "source": [
    "!ls"
   ]
  },
  {
   "cell_type": "code",
   "execution_count": 12,
   "id": "59d60a67-a7e9-40dd-81b9-0ef109ab1509",
   "metadata": {
    "tags": []
   },
   "outputs": [
    {
     "name": "stderr",
     "output_type": "stream",
     "text": [
      "/var/tmp/ipykernel_3783/1800625246.py:1: DeprecationWarning: output_component_file parameter is deprecated and will eventually be removed. Please use `Compiler().compile()` to compile a component instead.\n",
      "  @component(\n",
      "/var/tmp/ipykernel_3783/1800625246.py:6: DeprecationWarning: output_component_file parameter is deprecated and will eventually be removed. Please use `Compiler().compile()` to compile a component instead.\n",
      "  def download_data(input_data_path : str\n"
     ]
    }
   ],
   "source": [
    "@component(\n",
    "    packages_to_install=[\"pandas\", \"pyarrow\" , \"fsspec\" , \"gcsfs\"],\n",
    "    base_image=\"python:3.9\",\n",
    "    output_component_file=\"./components/download_data.yaml\"\n",
    ")\n",
    "def download_data(input_data_path : str\n",
    "                  , input_data_filename : str\n",
    "                  , downloaded_data : Output[Dataset]):\n",
    "    \n",
    "    import pandas as pd\n",
    "    import os\n",
    "    \n",
    "    print(f\"input_data_path : {input_data_path}\")\n",
    "    print(f\"input_data_filename : {input_data_filename}\")\n",
    "    print(f\"downloaded_data : {downloaded_data}\")\n",
    "    print(f\"downloaded_data.path : {downloaded_data.path}\")\n",
    "                \n",
    "    url = os.path.join(input_data_path , input_data_filename)\n",
    "    \n",
    "    #read data from GCS location\n",
    "    data = pd.read_csv(url)\n",
    "    \n",
    "    #write to output dataset path\n",
    "    output_data_uri = downloaded_data.path + \".csv\" \n",
    "    data.to_csv(output_data_uri \n",
    "                , index=False\n",
    "                , encoding='utf-8-sig')"
   ]
  },
  {
   "cell_type": "code",
   "execution_count": 13,
   "id": "36480cb0-c5ba-44a2-b2f1-1afbb6ae1529",
   "metadata": {
    "tags": []
   },
   "outputs": [
    {
     "name": "stderr",
     "output_type": "stream",
     "text": [
      "/var/tmp/ipykernel_3783/715708913.py:1: DeprecationWarning: output_component_file parameter is deprecated and will eventually be removed. Please use `Compiler().compile()` to compile a component instead.\n",
      "  @component(\n",
      "/var/tmp/ipykernel_3783/715708913.py:6: DeprecationWarning: output_component_file parameter is deprecated and will eventually be removed. Please use `Compiler().compile()` to compile a component instead.\n",
      "  def preprocess_data(train_size : float\n"
     ]
    }
   ],
   "source": [
    "@component(\n",
    "    packages_to_install=[\"pandas\", \"pyarrow\", \"fsspec\" , \"gcsfs\"],\n",
    "    base_image=\"python:3.9\",\n",
    "    output_component_file=\"./components/preprocess_data.yaml\"\n",
    ")\n",
    "def preprocess_data(train_size : float \n",
    "                    , test_size : float\n",
    "                    , valid_size : float\n",
    "                    , train_data : Output[Dataset]\n",
    "                    , valid_data : Output[Dataset]\n",
    "                    , test_data : Output[Dataset]\n",
    "                    , input_data:  Input[Dataset]\n",
    "                   ):\n",
    "    \n",
    "    import numpy as np\n",
    "    import pandas as pd\n",
    "    \n",
    "    print(f\"train_size : {train_size}\")\n",
    "    print(f\"test_size : {test_size}\")\n",
    "    print(f\"valid_size : {valid_size}\")\n",
    "    print(f\"train_data : {train_data}\")\n",
    "    print(f\"valid_data : {valid_data}\")\n",
    "    print(f\"test_data : {test_data}\")\n",
    "    print(f\"input_data : {input_data}\")\n",
    "    \n",
    "    data = pd.read_csv(input_data.path + \".csv\")\n",
    "    \n",
    "    modelling_columns = [\"season\" \n",
    "                     , \"yr\" \n",
    "                     ,\"mnth\" \n",
    "                     ,\"hr\" \n",
    "                     ,\"holiday\" \n",
    "                     , \"weekday\" \n",
    "                     , \"workingday\" \n",
    "                     , \"weathersit\" \n",
    "                     , \"temp\" \n",
    "                     , \"atemp\" \n",
    "                     , \"hum\" \n",
    "                     , \"windspeed\" \n",
    "                     , \"casual\" \n",
    "                     , \"registered\" \n",
    "                     , \"cnt\"\n",
    "                    ]\n",
    "    \n",
    "    data = data[modelling_columns]\n",
    "\n",
    "    train_ds, valid_ds, test_ds = np.split(data.sample(frac=1, random_state=42), [int((train_size)*len(data)), int((1-test_size)*len(data))])\n",
    "    train_ds.to_csv(train_data.path + \".csv\" , index=False, encoding='utf-8-sig')\n",
    "    valid_ds.to_csv(valid_data.path + \".csv\" , index=False, encoding='utf-8-sig')\n",
    "    test_ds.to_csv(test_data.path + \".csv\" , index=False, encoding='utf-8-sig')\n"
   ]
  },
  {
   "cell_type": "code",
   "execution_count": 14,
   "id": "aa7bc0ff-d6a2-4dd9-bbe2-b7dbbe61d30e",
   "metadata": {
    "tags": []
   },
   "outputs": [
    {
     "name": "stderr",
     "output_type": "stream",
     "text": [
      "/var/tmp/ipykernel_3783/1210268811.py:1: DeprecationWarning: output_component_file parameter is deprecated and will eventually be removed. Please use `Compiler().compile()` to compile a component instead.\n",
      "  @component(\n",
      "/var/tmp/ipykernel_3783/1210268811.py:6: DeprecationWarning: output_component_file parameter is deprecated and will eventually be removed. Please use `Compiler().compile()` to compile a component instead.\n",
      "  def train_model(\n"
     ]
    }
   ],
   "source": [
    "@component(\n",
    "    packages_to_install=[\"kfp==2.4.0\", \"pandas\", \"pyarrow\",  \"scikit-learn==1.3.2\" , \"fsspec\" , \"gcsfs\", \"click==8.1.7\", \"docstring-parser==0.16\", \"kfp-pipeline-spec==0.2.2\", \"kfp-server-api==2.0.5\", \"kubernetes==26.1.0\", \"PyYAML==6.0.2\", \"requests-toolbelt==0.10.1\", \"tabulate==0.9.0\", \"protobuf==3.20.3\", \"urllib3==1.26.20\"]\n",
    "    , base_image=\"python:3.9\"\n",
    "    , output_component_file=\"./components/train.yaml\"\n",
    ")\n",
    "def train_model(\n",
    "    train_data:  Input[Dataset],\n",
    "    model: Output[Model], \n",
    "):\n",
    "    \n",
    "    print(f\"train_data : {train_data}\")\n",
    "    print(f\"model : {model}\")\n",
    "    \n",
    "    from sklearn.ensemble import RandomForestRegressor\n",
    "    import pandas as pd\n",
    "    import pickle\n",
    "    import sklearn\n",
    "\n",
    "    train_ds = pd.read_csv(train_data.path+\".csv\")\n",
    "    my_model = RandomForestRegressor()\n",
    "    \n",
    "    target = \"cnt\"\n",
    "    \n",
    "    x_train = train_ds.drop(columns=target, axis=1)\n",
    "    y_train = train_ds[target]\n",
    "    \n",
    "    my_model.fit(x_train , y_train)\n",
    "    model.metadata[\"model_name\"] = \"RandomForestRegressor\"\n",
    "    model.metadata[\"framework\"] = \"sklearn\"\n",
    "    model.metadata[\"framework_version\"] = sklearn.__version__\n",
    "    file_name = model.path + f\".pkl\"\n",
    "    \n",
    "    with open(file_name, 'wb') as file:  \n",
    "        pickle.dump(my_model, file)\n"
   ]
  },
  {
   "cell_type": "code",
   "execution_count": 15,
   "id": "8598826f-32e9-4bd9-99ae-291a6fff33d2",
   "metadata": {
    "tags": []
   },
   "outputs": [
    {
     "name": "stderr",
     "output_type": "stream",
     "text": [
      "/var/tmp/ipykernel_3783/210292492.py:1: DeprecationWarning: output_component_file parameter is deprecated and will eventually be removed. Please use `Compiler().compile()` to compile a component instead.\n",
      "  @component(\n",
      "/var/tmp/ipykernel_3783/210292492.py:6: DeprecationWarning: output_component_file parameter is deprecated and will eventually be removed. Please use `Compiler().compile()` to compile a component instead.\n",
      "  def evaluate_model(\n"
     ]
    }
   ],
   "source": [
    "@component(\n",
    "    packages_to_install=[\"pandas\", \"pyarrow\",  \"scikit-learn==1.3.2\" , \"fsspec\" , \"gcsfs\"]\n",
    "    , base_image=\"python:3.9\"\n",
    "    , output_component_file=\"./components/evaluate_model.yaml\"\n",
    ")\n",
    "def evaluate_model(\n",
    "    test_data:  Input[Dataset],\n",
    "    model: Input[Model], \n",
    "    target_column_name : str ,\n",
    "    deployment_metric : str ,\n",
    "    deployment_metric_threshold : float ,\n",
    "    kpi: Output[Metrics]\n",
    ")-> NamedTuple(\n",
    "    \"Outputs\",\n",
    "    [\n",
    "        (\"deploy_flag\", str),  # Return parameter.\n",
    "    ],\n",
    "):\n",
    "    \n",
    "    print(f\"test_data : {test_data}\")\n",
    "    print(f\"model : {model}\")\n",
    "    print(f\"kpi : {kpi}\")\n",
    "    print(f\"deployment_metric : {deployment_metric}\")\n",
    "    print(f\"deployment_metric_threshold : {deployment_metric_threshold}\")\n",
    "    \n",
    "    from sklearn.metrics import mean_absolute_error,r2_score,mean_squared_error,mean_absolute_percentage_error\n",
    "    import pandas as pd\n",
    "    import pickle\n",
    "    import numpy as np\n",
    "    import json\n",
    "    \n",
    "    test_ds = pd.read_csv(test_data.path+\".csv\")\n",
    "    target = target_column_name\n",
    "    \n",
    "    x_test = test_ds.drop(columns=target, axis=1)\n",
    "    y_test = test_ds[target]\n",
    "    \n",
    "    print(f\"model.path : {model.path}\")\n",
    "    file_name = model.path + f\".pkl\"\n",
    "    print(f\"file_name : {file_name}\")\n",
    "    #model = pickle.loads(file_name)\n",
    "    with open(file_name, 'rb') as file:  \n",
    "        model = pickle.load(file)\n",
    "    \n",
    "    y_pred = model.predict(x_test)\n",
    "    r2 = r2_score(y_true=y_test, y_pred=y_pred)\n",
    "    mae = mean_absolute_error(y_true=y_test, y_pred=y_pred)\n",
    "    mse = mean_squared_error(y_true=y_test, y_pred=y_pred)\n",
    "    mape = mean_absolute_percentage_error(y_true=y_test, y_pred=y_pred)\n",
    "    rmse = np.sqrt(mse)\n",
    "    \n",
    "    model_metrics = {\"r2\" : r2 \n",
    "                     , \"mae\" : mae \n",
    "                     , \"mape\" : mape \n",
    "                     , \"mse\" : mse \n",
    "                     , \"rmse\" : rmse\n",
    "                    }\n",
    "    \n",
    "    print(f\"Adjusted_R2 : {r2}\")\n",
    "    print(f\"Mean Absolute Error : {mae}\")\n",
    "    print(f\"Mean Absolute Percentage Error : {round(mape,4)*100}%\")\n",
    "    print(f\"Mean Squared Error : {mse}\")\n",
    "    print(f\"Root Mean Squared Error : {rmse}\")\n",
    "    \n",
    "    kpi.log_metric(\"Adjusted_R2\", float(r2))\n",
    "    kpi.log_metric(\"Mean Absolute Error\", float(mae))\n",
    "    kpi.log_metric(\"Mean Absolute Percentage Error\", float(mape))\n",
    "    kpi.log_metric(\"Mean Squared Error\", float(mse))\n",
    "    kpi.log_metric(\"Root Mean Squared Error\", float(rmse))\n",
    "    \n",
    "    actual_metric_value = model_metrics.get(deployment_metric)\n",
    "    \n",
    "    if actual_metric_value >= deployment_metric_threshold:\n",
    "        deploy_flag = \"True\"\n",
    "    else:\n",
    "        deploy_flag = \"False\"\n",
    "        \n",
    "    return (deploy_flag,)\n"
   ]
  },
  {
   "cell_type": "code",
   "execution_count": 16,
   "id": "c31411df-a274-48f0-8f65-1b46e935e790",
   "metadata": {
    "tags": []
   },
   "outputs": [
    {
     "name": "stderr",
     "output_type": "stream",
     "text": [
      "/var/tmp/ipykernel_3783/142823085.py:1: DeprecationWarning: output_component_file parameter is deprecated and will eventually be removed. Please use `Compiler().compile()` to compile a component instead.\n",
      "  @component(\n",
      "/var/tmp/ipykernel_3783/142823085.py:6: DeprecationWarning: output_component_file parameter is deprecated and will eventually be removed. Please use `Compiler().compile()` to compile a component instead.\n",
      "  def register_model(\n"
     ]
    }
   ],
   "source": [
    "@component(\n",
    "    packages_to_install=[\"pandas\", \"pyarrow\",  \"scikit-learn==1.3.2\" , \"fsspec\" , \"gcsfs\" , \"google-cloud-aiplatform\"]\n",
    "    , base_image=\"python:3.9\"\n",
    "    , output_component_file=\"./components/register_model.yaml\"\n",
    ")\n",
    "def register_model(\n",
    "    serving_container_uri : str ,\n",
    "    project_id : str ,\n",
    "    region: str,\n",
    "    model_name : str , \n",
    "    model: Input[Model], \n",
    ")-> NamedTuple(\n",
    "    \"Outputs\",\n",
    "    [\n",
    "        (\"model_resource_name\", str),  # Return parameter.\n",
    "    ],\n",
    "):\n",
    "    \n",
    "    print(f\"serving_container_uri : {serving_container_uri}\")\n",
    "    print(f\"project_id : {project_id}\")\n",
    "    print(f\"region : {region}\")\n",
    "    print(f\"model : {model}\")\n",
    "    \n",
    "    from google.cloud import aiplatform\n",
    "    \n",
    "    print(f\"model.uri : {model.uri[:-5]}\")\n",
    "    \n",
    "    aiplatform.init(project = project_id , location=region)\n",
    "    model = aiplatform.Model.upload(display_name= model_name ,\n",
    "                                    artifact_uri=model.uri[:-5],\n",
    "                                    serving_container_image_uri=serving_container_uri)\n",
    "    return (model.resource_name,)"
   ]
  },
  {
   "cell_type": "code",
   "execution_count": 17,
   "id": "15f2a594-6a6c-43a5-9fc2-205efc307e69",
   "metadata": {
    "tags": []
   },
   "outputs": [
    {
     "name": "stderr",
     "output_type": "stream",
     "text": [
      "/var/tmp/ipykernel_3783/2844370707.py:1: DeprecationWarning: output_component_file parameter is deprecated and will eventually be removed. Please use `Compiler().compile()` to compile a component instead.\n",
      "  @component(\n",
      "/var/tmp/ipykernel_3783/2844370707.py:6: DeprecationWarning: output_component_file parameter is deprecated and will eventually be removed. Please use `Compiler().compile()` to compile a component instead.\n",
      "  def deploy_model(\n"
     ]
    }
   ],
   "source": [
    "@component(\n",
    "    packages_to_install=[\"kfp==2.4.0\", \"pandas\", \"pyarrow\",  \"scikit-learn==1.3.2\" , \"fsspec\" , \"gcsfs\", \"google-cloud-aiplatform\", \"click==8.1.7\", \"kfp-pipeline-spec==0.2.2\", \"kfp-server-api==2.0.5\", \"kubernetes==26.1.0\", \"PyYAML==6.0.2\", \"requests-toolbelt==0.10.1\", \"tabulate==0.9.0\", \"protobuf==3.20.3\", \"urllib3==1.26.20\", \"numpy==1.24.4\", \"google-cloud-pipeline-components==2.8.0\"]\n",
    "    , base_image=\"python:3.9\"\n",
    "    , output_component_file=\"./components/deploy_model.yaml\"\n",
    ")\n",
    "def deploy_model(\n",
    "    model_resource_name : str ,\n",
    "    project_id : str ,\n",
    "    region: str\n",
    ")-> NamedTuple(\n",
    "    \"Outputs\",\n",
    "    [\n",
    "        (\"endpoint_resource_name\", str),  # Return parameter.\n",
    "    ],\n",
    "):\n",
    "    \n",
    "    print(f\"model_resource_name : {model_resource_name}\")\n",
    "    print(f\"project_id : {project_id}\")\n",
    "    print(f\"region : {region}\")\n",
    "    \n",
    "    from google.cloud import aiplatform\n",
    "    \n",
    "    aiplatform.init(project = project_id , location=region)\n",
    "    \n",
    "    model = aiplatform.Model(model_resource_name)\n",
    "    endpoint = model.deploy(machine_type=\"n1-standard-4\",\n",
    "                        min_replica_count=1,\n",
    "                        max_replica_count=1)\n",
    "    \n",
    "    return (endpoint.resource_name,)\n"
   ]
  },
  {
   "cell_type": "code",
   "execution_count": 18,
   "id": "ad7bb867-3afb-4023-b399-156f16b2c21e",
   "metadata": {
    "tags": []
   },
   "outputs": [
    {
     "name": "stdout",
     "output_type": "stream",
     "text": [
      "Service Account: 406734522279-compute@developer.gserviceaccount.com\n",
      "Project ID:  qwiklabs-gcp-00-49e29e0e97ec\n",
      "staging_bucket_uri:  gs://qwiklabs-gcp-00-49e29e0e97ec-bucket\n",
      "input_data_path:  gs://qwiklabs-gcp-00-49e29e0e97ec-bucket\n"
     ]
    }
   ],
   "source": [
    "shell_output = !gcloud auth list 2>/dev/null\n",
    "SERVICE_ACCOUNT = shell_output[2].replace(\"*\", \"\").strip()\n",
    "print(\"Service Account:\", SERVICE_ACCOUNT)\n",
    "print(\"Project ID: \", PROJECT_ID)\n",
    "print(\"staging_bucket_uri: \",BUCKET_NAME)\n",
    "print(\"input_data_path: \",BUCKET_NAME)\n"
   ]
  },
  {
   "cell_type": "code",
   "execution_count": 26,
   "id": "5837901e-3f33-45b5-9c26-f2534ba181c2",
   "metadata": {
    "tags": []
   },
   "outputs": [
    {
     "name": "stdout",
     "output_type": "stream",
     "text": [
      "Overwriting config.json\n"
     ]
    }
   ],
   "source": [
    "%%writefile config.json\n",
    "{\n",
    "    \"project\":\"qwiklabs-gcp-00-49e29e0e97ec\",\n",
    "    \"region\":\"us-central1\",\n",
    "    \"service_account\":\"406734522279-compute@developer.gserviceaccount.com\",\n",
    "    \"staging_bucket_uri\":\"gs://qwiklabs-gcp-00-49e29e0e97ec-bucket\",\n",
    "    \"pipeline_name\":\"tabular-data-regression-kfp-cicd-pipeline\",\n",
    "    \"pipeline_package_path\":\"tabular-data-regression-kfp-cicd-pipeline.json\",\n",
    "    \"input_data_path\":\"gs://qwiklabs-gcp-00-49e29e0e97ec-bucket\",\n",
    "    \"input_data_filename\":\"hour.csv\",\n",
    "    \"target_column_name\":\"cnt\",\n",
    "    \"train_size\":0.8,\n",
    "    \"test_size\":0.1,\n",
    "    \"valid_size\":0.1,\n",
    "    \"deployment_metric\":\"r2\",\n",
    "    \"deployment_metric_threshold\":0.8,\n",
    "    \"model_name\":\"model_tabular_regression\",\n",
    "    \"serving_container_uri\":\"us-docker.pkg.dev/vertex-ai/prediction/sklearn-cpu.1-3:latest\"\n",
    "}"
   ]
  },
  {
   "cell_type": "code",
   "execution_count": 27,
   "id": "1e69299d-e611-44a5-a02d-c9628524ae5b",
   "metadata": {
    "tags": []
   },
   "outputs": [
    {
     "name": "stdout",
     "output_type": "stream",
     "text": [
      "Bike-Sharing-Dataset.zip  config.json\n",
      "Level-0.ipynb\t\t  data\n",
      "build_pipeline.py\t  run_pipeline.py\n",
      "components\t\t  tabular-data-regression-kfp-cicd-pipeline.json\n"
     ]
    }
   ],
   "source": [
    "!ls"
   ]
  },
  {
   "cell_type": "code",
   "execution_count": 28,
   "id": "caffd4b3-5260-426a-a5f1-e846debc8e60",
   "metadata": {
    "tags": []
   },
   "outputs": [
    {
     "name": "stdout",
     "output_type": "stream",
     "text": [
      "{\n",
      "    \"project\":\"qwiklabs-gcp-00-49e29e0e97ec\",\n",
      "    \"region\":\"us-central1\",\n",
      "    \"service_account\":\"406734522279-compute@developer.gserviceaccount.com\",\n",
      "    \"staging_bucket_uri\":\"gs://qwiklabs-gcp-00-49e29e0e97ec-bucket\",\n",
      "    \"pipeline_name\":\"tabular-data-regression-kfp-cicd-pipeline\",\n",
      "    \"pipeline_package_path\":\"tabular-data-regression-kfp-cicd-pipeline.json\",\n",
      "    \"input_data_path\":\"gs://qwiklabs-gcp-00-49e29e0e97ec-bucket\",\n",
      "    \"input_data_filename\":\"hour.csv\",\n",
      "    \"target_column_name\":\"cnt\",\n",
      "    \"train_size\":0.8,\n",
      "    \"test_size\":0.1,\n",
      "    \"valid_size\":0.1,\n",
      "    \"deployment_metric\":\"r2\",\n",
      "    \"deployment_metric_threshold\":0.8,\n",
      "    \"model_name\":\"model_tabular_regression\",\n",
      "    \"serving_container_uri\":\"us-docker.pkg.dev/vertex-ai/prediction/sklearn-cpu.1-3:latest\"\n",
      "}\n"
     ]
    }
   ],
   "source": [
    "!cat config.json"
   ]
  },
  {
   "cell_type": "code",
   "execution_count": 29,
   "id": "7c4e0467-7a72-4cd7-a08e-fa1c2bf17bd6",
   "metadata": {
    "tags": []
   },
   "outputs": [
    {
     "name": "stdout",
     "output_type": "stream",
     "text": [
      "Overwriting build_pipeline.py\n"
     ]
    }
   ],
   "source": [
    "%%writefile build_pipeline.py\n",
    "\n",
    "import json\n",
    "import yaml\n",
    "\n",
    "import kfp\n",
    "from kfp import dsl\n",
    "from kfp import compiler\n",
    "from kfp.components import load_component_from_file\n",
    "\n",
    "download_data = load_component_from_file(\"./components/download_data.yaml\")\n",
    "preprocess_data = load_component_from_file(\"./components/preprocess_data.yaml\")\n",
    "train_model = load_component_from_file(\"./components/train.yaml\")\n",
    "evaluate_model = load_component_from_file(\"./components/evaluate_model.yaml\")\n",
    "register_model = load_component_from_file(\"./components/register_model.yaml\")\n",
    "deploy_model = load_component_from_file(\"./components/deploy_model.yaml\")\n",
    "\n",
    "#read configuration from file\n",
    "with open(\"config.json\") as json_file:\n",
    "    config = json.load(json_file)\n",
    "    \n",
    "PIPELINE_NAME = config.get(\"pipeline_name\")\n",
    "PACKAGE_PATH = config.get(\"pipeline_package_path\")\n",
    "BUCKET_URI = config.get(\"staging_bucket_uri\")\n",
    "PIPELINE_ROOT = \"{}/pipeline_root/kfp_tabular_data_regression\".format(BUCKET_URI)\n",
    "print(f\"PIPELINE_ROOT :{PIPELINE_ROOT}\")\n",
    "\n",
    "@dsl.pipeline(\n",
    "    # Default pipeline root. You can override it when submitting the pipeline.\n",
    "    pipeline_root=PIPELINE_ROOT,\n",
    "    # A name for the pipeline. Use to define the pipeline Context.\n",
    "    name=PIPELINE_NAME,\n",
    "    \n",
    ")\n",
    "def pipeline(project: str = \"\",\n",
    " region: str = \"\",\n",
    " service_account: str = \"\",\n",
    " staging_bucket_uri: str = \"\",\n",
    " pipeline_name: str = \"\",\n",
    " pipeline_package_path: str = \"\",\n",
    " input_data_path: str = \"\",\n",
    " input_data_filename: str = \"\",\n",
    " target_column_name: str = \"\",\n",
    " train_size: float = 0.8,\n",
    " test_size: float = 0.1,\n",
    " valid_size: float = 0.1,\n",
    " hypertune_container_image_uri: str = \"\" ,\n",
    " hypertune_machine_type: str = \"\",\n",
    " hypertune_machine_replica_count: int = 1 ,\n",
    " hypertune_max_trial_count: int = 1 ,\n",
    " hypertune_parallel_trial_count: int = 1 ,\n",
    " hypertune_metric : str = \"\" ,\n",
    " hypertune_metric_objective : str = \"\" ,\n",
    " hypertune_job_name: str = \"\" ,\n",
    " deployment_metric: str = \"\" ,\n",
    " deployment_metric_threshold: float = 0.8 ,\n",
    " serving_container_uri : str = \"\" ,\n",
    " model_name : str = \"\", \n",
    " user_email : str = \"\",\n",
    " monitoring_job_name : str = \"\" ,\n",
    " predict_instance_schema_uri : str = \"\"\n",
    "):\n",
    "    \n",
    "    download_data_op = download_data(input_data_path = input_data_path \n",
    "                                     , input_data_filename = input_data_filename\n",
    "                                    )\n",
    "    \n",
    "    \n",
    "    preprocess_data_op = preprocess_data(train_size = train_size\n",
    "                                         , test_size = test_size\n",
    "                                         , valid_size = valid_size\n",
    "                                         , input_data = download_data_op.outputs[\"downloaded_data\"])\n",
    "    \n",
    "    train_model_op = train_model(train_data = preprocess_data_op.outputs[\"train_data\"])\n",
    "    \n",
    "    \n",
    "    evaluate_model_op = evaluate_model(test_data = preprocess_data_op.outputs[\"test_data\"]\n",
    "                                       ,model = train_model_op.outputs[\"model\"]\n",
    "                                       ,target_column_name = target_column_name\n",
    "                                       ,deployment_metric = deployment_metric \n",
    "                                       ,deployment_metric_threshold = deployment_metric_threshold\n",
    "                                      )\n",
    "    \n",
    "    with dsl.If(evaluate_model_op.outputs[\"deploy_flag\"] == \"True\"):\n",
    "        \n",
    "        register_model_op = register_model(serving_container_uri = serving_container_uri \n",
    "                                       , model = train_model_op.outputs[\"model\"]\n",
    "                                       , model_name = model_name\n",
    "                                       , project_id = project \n",
    "                                       , region = region)\n",
    "        \n",
    "        #deploy only if metric value exceeds deployment threshold\n",
    "        deploy_model_op = deploy_model(model_resource_name = register_model_op.outputs[\"model_resource_name\"] \n",
    "                                   , project_id = project \n",
    "                                   , region = region)\n",
    "    \n",
    "compiler.Compiler().compile(\n",
    "    pipeline_func=pipeline\n",
    "    , package_path=PACKAGE_PATH\n",
    ")\n"
   ]
  },
  {
   "cell_type": "code",
   "execution_count": 30,
   "id": "8647ac32-9f08-43dc-82a5-67954a42c3ba",
   "metadata": {
    "tags": []
   },
   "outputs": [
    {
     "name": "stdout",
     "output_type": "stream",
     "text": [
      "Overwriting run_pipeline.py\n"
     ]
    }
   ],
   "source": [
    "%%writefile run_pipeline.py\n",
    "\n",
    "from google.cloud import aiplatform\n",
    "import yaml\n",
    "import json\n",
    "\n",
    "with open(\"config.json\") as json_file:\n",
    "    config = json.load(json_file)\n",
    "    \n",
    "SERVICE_ACCOUNT = config.get(\"service_account\")\n",
    "DISPLAY_NAME = config.get(\"pipeline_name\")\n",
    "PACKAGE_PATH = config.get(\"pipeline_package_path\")\n",
    "BUCKET_URI = config.get(\"staging_bucket_uri\")\n",
    "PIPELINE_ROOT = \"{}/pipeline_root/kfp_tabular_data_regression\".format(BUCKET_URI)\n",
    "print(f\"PIPELINE_ROOT :{PIPELINE_ROOT}\")\n",
    "\n",
    "job = aiplatform.PipelineJob(\n",
    "    display_name=DISPLAY_NAME,\n",
    "    template_path=PACKAGE_PATH,\n",
    "    pipeline_root=PIPELINE_ROOT,\n",
    "    parameter_values=config,\n",
    ")\n",
    "\n",
    "job.submit(service_account = SERVICE_ACCOUNT)\n"
   ]
  },
  {
   "cell_type": "code",
   "execution_count": 31,
   "id": "06cebe0d-9b6b-4935-bd38-4330e90d365a",
   "metadata": {
    "tags": []
   },
   "outputs": [
    {
     "name": "stdout",
     "output_type": "stream",
     "text": [
      "PIPELINE_ROOT :gs://qwiklabs-gcp-00-49e29e0e97ec-bucket/pipeline_root/kfp_tabular_data_regression\n"
     ]
    }
   ],
   "source": [
    "!python3 build_pipeline.py"
   ]
  },
  {
   "cell_type": "code",
   "execution_count": 24,
   "id": "18f3a7e6-6161-452f-8c4e-79a8758c76be",
   "metadata": {
    "tags": []
   },
   "outputs": [
    {
     "name": "stdout",
     "output_type": "stream",
     "text": [
      "Bike-Sharing-Dataset.zip  config.json\n",
      "Level-0.ipynb\t\t  data\n",
      "build_pipeline.py\t  run_pipeline.py\n",
      "components\t\t  tabular-data-regression-kfp-cicd-pipeline.json\n"
     ]
    }
   ],
   "source": [
    "!ls"
   ]
  },
  {
   "cell_type": "code",
   "execution_count": 33,
   "id": "ce6df574-3eae-479b-af49-f2d2a09d28f7",
   "metadata": {
    "tags": []
   },
   "outputs": [
    {
     "name": "stdout",
     "output_type": "stream",
     "text": [
      "PIPELINE_ROOT :gs://qwiklabs-gcp-00-49e29e0e97ec-bucket/pipeline_root/kfp_tabular_data_regression\n",
      "Creating PipelineJob\n",
      "PipelineJob created. Resource name: projects/406734522279/locations/us-central1/pipelineJobs/tabular-data-regression-kfp-cicd-pipeline-20250920070919\n",
      "To use this PipelineJob in another session:\n",
      "pipeline_job = aiplatform.PipelineJob.get('projects/406734522279/locations/us-central1/pipelineJobs/tabular-data-regression-kfp-cicd-pipeline-20250920070919')\n",
      "View Pipeline Job:\n",
      "https://console.cloud.google.com/vertex-ai/locations/us-central1/pipelines/runs/tabular-data-regression-kfp-cicd-pipeline-20250920070919?project=406734522279\n"
     ]
    }
   ],
   "source": [
    "!python3 run_pipeline.py"
   ]
  },
  {
   "cell_type": "code",
   "execution_count": 34,
   "id": "85142364-7134-49a0-b266-b699e05b4db3",
   "metadata": {
    "tags": []
   },
   "outputs": [
    {
     "name": "stdout",
     "output_type": "stream",
     "text": [
      "Copying file://./config.json [Content-Type=application/json]...\n",
      "/ [1 files][  773.0 B/  773.0 B]                                                \n",
      "Operation completed over 1 objects/773.0 B.                                      \n",
      "Copying file://./tabular-data-regression-kfp-cicd-pipeline.json [Content-Type=application/json]...\n",
      "/ [1 files][ 31.5 KiB/ 31.5 KiB]                                                \n",
      "Operation completed over 1 objects/31.5 KiB.                                     \n",
      "Updated ACL on gs://qwiklabs-gcp-00-49e29e0e97ec-bucket/config.json\n",
      "Updated ACL on gs://qwiklabs-gcp-00-49e29e0e97ec-bucket/tabular-data-regression-kfp-cicd-pipeline.json\n"
     ]
    }
   ],
   "source": [
    "! gsutil cp ./config.json $BUCKET_NAME\n",
    "! gsutil cp ./tabular-data-regression-kfp-cicd-pipeline.json $BUCKET_NAME\n",
    "! gsutil acl ch -u AllUsers:R $BUCKET_NAME/config.json\n",
    "! gsutil acl ch -u AllUsers:R $BUCKET_NAME/tabular-data-regression-kfp-cicd-pipeline.json"
   ]
  },
  {
   "cell_type": "code",
   "execution_count": null,
   "id": "2cadcd44-eded-4abb-84b0-6b59d339014e",
   "metadata": {},
   "outputs": [],
   "source": []
  }
 ],
 "metadata": {
  "environment": {
   "kernel": "python3",
   "name": "tf2-gpu.2-17.m128",
   "type": "gcloud",
   "uri": "us-docker.pkg.dev/deeplearning-platform-release/gcr.io/tf2-gpu.2-17:m128"
  },
  "kernelspec": {
   "display_name": "Python 3 (Local)",
   "language": "python",
   "name": "python3"
  },
  "language_info": {
   "codemirror_mode": {
    "name": "ipython",
    "version": 3
   },
   "file_extension": ".py",
   "mimetype": "text/x-python",
   "name": "python",
   "nbconvert_exporter": "python",
   "pygments_lexer": "ipython3",
   "version": "3.10.16"
  }
 },
 "nbformat": 4,
 "nbformat_minor": 5
}
