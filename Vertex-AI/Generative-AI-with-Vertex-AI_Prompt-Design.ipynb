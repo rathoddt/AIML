{
 "cells": [
  {
   "cell_type": "code",
   "execution_count": null,
   "metadata": {
    "id": "ur8xi4C7S06n"
   },
   "outputs": [],
   "source": [
    "# Copyright 2025 Google LLC\n",
    "#\n",
    "# Licensed under the Apache License, Version 2.0 (the \"License\");\n",
    "# you may not use this file except in compliance with the License.\n",
    "# You may obtain a copy of the License at\n",
    "#\n",
    "#     https://www.apache.org/licenses/LICENSE-2.0\n",
    "#\n",
    "# Unless required by applicable law or agreed to in writing, software\n",
    "# distributed under the License is distributed on an \"AS IS\" BASIS,\n",
    "# WITHOUT WARRANTIES OR CONDITIONS OF ANY KIND, either express or implied.\n",
    "# See the License for the specific language governing permissions and\n",
    "# limitations under the License."
   ]
  },
  {
   "cell_type": "markdown",
   "metadata": {
    "id": "JAPoU8Sm5E6e"
   },
   "source": [
    "# Prompt Design - Best Practices\n",
    "\n",
    "<table align=\"left\">\n",
    "  <td style=\"text-align: center\">\n",
    "    <a href=\"https://colab.research.google.com/github/GoogleCloudPlatform/generative-ai/blob/main/gemini/prompts/intro_prompt_design.ipynb\">\n",
    "      <img width=\"32px\" src=\"https://www.gstatic.com/pantheon/images/bigquery/welcome_page/colab-logo.svg\" alt=\"Google Colaboratory logo\"><br> Open in Colab\n",
    "    </a>\n",
    "  </td>\n",
    "  <td style=\"text-align: center\">\n",
    "    <a href=\"https://console.cloud.google.com/vertex-ai/colab/import/https:%2F%2Fraw.githubusercontent.com%2FGoogleCloudPlatform%2Fgenerative-ai%2Fmain%2Fgemini%2Fprompts%2Fintro_prompt_design.ipynb\">\n",
    "      <img width=\"32px\" src=\"https://lh3.googleusercontent.com/JmcxdQi-qOpctIvWKgPtrzZdJJK-J3sWE1RsfjZNwshCFgE_9fULcNpuXYTilIR2hjwN\" alt=\"Google Cloud Colab Enterprise logo\"><br> Open in Colab Enterprise\n",
    "    </a>\n",
    "  </td>\n",
    "  <td style=\"text-align: center\">\n",
    "    <a href=\"https://console.cloud.google.com/vertex-ai/workbench/deploy-notebook?download_url=https://raw.githubusercontent.com/GoogleCloudPlatform/generative-ai/main/gemini/prompts/intro_prompt_design.ipynb\">\n",
    "      <img src=\"https://www.gstatic.com/images/branding/gcpiconscolors/vertexai/v1/32px.svg\" alt=\"Vertex AI logo\"><br> Open in Workbench\n",
    "    </a>\n",
    "  </td>\n",
    "  <td style=\"text-align: center\">\n",
    "    <a href=\"https://github.com/GoogleCloudPlatform/generative-ai/blob/main/gemini/prompts/intro_prompt_design.ipynb\">\n",
    "      <img width=\"32px\" src=\"https://www.svgrepo.com/download/217753/github.svg\" alt=\"GitHub logo\"><br> View on GitHub\n",
    "    </a>\n",
    "  </td>\n",
    "  <td style=\"text-align: center\">\n",
    "    <a href=\"https://goo.gle/4fWHlze\">\n",
    "      <img width=\"32px\" src=\"https://cdn.qwiklabs.com/assets/gcp_cloud-e3a77215f0b8bfa9b3f611c0d2208c7e8708ed31.svg\" alt=\"Google Cloud logo\"><br> Open in  Cloud Skills Boost\n",
    "    </a>\n",
    "  </td>\n",
    "</table>\n",
    "\n",
    "<div style=\"clear: both;\"></div>\n",
    "\n",
    "<b>Share to:</b>\n",
    "\n",
    "<a href=\"https://www.linkedin.com/sharing/share-offsite/?url=https%3A//github.com/GoogleCloudPlatform/generative-ai/blob/main/gemini/prompts/intro_prompt_design.ipynb\" target=\"_blank\">\n",
    "  <img width=\"20px\" src=\"https://upload.wikimedia.org/wikipedia/commons/8/81/LinkedIn_icon.svg\" alt=\"LinkedIn logo\">\n",
    "</a>\n",
    "<a href=\"https://bsky.app/intent/compose?text=https%3A//github.com/GoogleCloudPlatform/generative-ai/blob/main/gemini/prompts/intro_prompt_design.ipynb\" target=\"_blank\">\n",
    "  <img width=\"20px\" src=\"https://upload.wikimedia.org/wikipedia/commons/7/7a/Bluesky_Logo.svg\" alt=\"Bluesky logo\">\n",
    "</a>\n",
    "<a href=\"https://twitter.com/intent/tweet?url=https%3A//github.com/GoogleCloudPlatform/generative-ai/blob/main/gemini/prompts/intro_prompt_design.ipynb\" target=\"_blank\">\n",
    "  <img width=\"20px\" src=\"https://upload.wikimedia.org/wikipedia/commons/5/5a/X_icon_2.svg\" alt=\"X logo\">\n",
    "</a>\n",
    "<a href=\"https://reddit.com/submit?url=https%3A//github.com/GoogleCloudPlatform/generative-ai/blob/main/gemini/prompts/intro_prompt_design.ipynb\" target=\"_blank\">\n",
    "  <img width=\"20px\" src=\"https://redditinc.com/hubfs/Reddit%20Inc/Brand/Reddit_Logo.png\" alt=\"Reddit logo\">\n",
    "</a>\n",
    "<a href=\"https://www.facebook.com/sharer/sharer.php?u=https%3A//github.com/GoogleCloudPlatform/generative-ai/blob/main/gemini/prompts/intro_prompt_design.ipynb\" target=\"_blank\">\n",
    "  <img width=\"20px\" src=\"https://upload.wikimedia.org/wikipedia/commons/5/51/Facebook_f_logo_%282019%29.svg\" alt=\"Facebook logo\">\n",
    "</a>"
   ]
  },
  {
   "cell_type": "markdown",
   "metadata": {
    "id": "84f0f73a0f76"
   },
   "source": [
    "| Authors |\n",
    "| --- |\n",
    "| [Polong Lin](https://github.com/polong-lin) |\n",
    "| [Karl Weinmeister](https://github.com/kweinmeister) |"
   ]
  },
  {
   "cell_type": "markdown",
   "metadata": {
    "id": "tvgnzT1CKxrO"
   },
   "source": [
    "## Overview\n",
    "\n",
    "This notebook covers the essentials of prompt engineering, including some best practices.\n",
    "\n",
    "Learn more about prompt design in the [official documentation](https://cloud.google.com/vertex-ai/docs/generative-ai/text/text-overview).\n",
    "\n",
    "In this notebook, you learn best practices around prompt engineering -- how to design prompts to improve the quality of your responses.\n",
    "\n",
    "This notebook covers the following best practices for prompt engineering:\n",
    "\n",
    "- Be concise\n",
    "- Be specific and well-defined\n",
    "- Ask one task at a time\n",
    "- Turn generative tasks into classification tasks\n",
    "- Improve response quality by including examples"
   ]
  },
  {
   "cell_type": "markdown",
   "metadata": {
    "id": "61RBz8LLbxCR"
   },
   "source": [
    "## Getting Started"
   ]
  },
  {
   "cell_type": "markdown",
   "metadata": {
    "id": "No17Cw5hgx12"
   },
   "source": [
    "### Install Google Gen AI SDK\n"
   ]
  },
  {
   "cell_type": "code",
   "execution_count": 1,
   "metadata": {
    "id": "tFy3H3aPgx12",
    "tags": []
   },
   "outputs": [
    {
     "name": "stdout",
     "output_type": "stream",
     "text": [
      "Note: you may need to restart the kernel to use updated packages.\n"
     ]
    }
   ],
   "source": [
    "%pip install --upgrade --quiet google-genai"
   ]
  },
  {
   "cell_type": "markdown",
   "metadata": {
    "id": "06489bd14f16"
   },
   "source": [
    "### Import libraries\n"
   ]
  },
  {
   "cell_type": "code",
   "execution_count": 2,
   "metadata": {
    "id": "154137022fb6",
    "tags": []
   },
   "outputs": [],
   "source": [
    "from IPython.display import Markdown, display\n",
    "from google import genai\n",
    "from google.genai.types import GenerateContentConfig"
   ]
  },
  {
   "cell_type": "markdown",
   "metadata": {
    "id": "DF4l8DTdWgPY"
   },
   "source": [
    "### Set Google Cloud project information and create client\n",
    "\n",
    "To get started using Vertex AI, you must have an existing Google Cloud project and [enable the Vertex AI API](https://console.cloud.google.com/flows/enableapi?apiid=aiplatform.googleapis.com).\n",
    "\n",
    "Learn more about [setting up a project and a development environment](https://cloud.google.com/vertex-ai/docs/start/cloud-environment)."
   ]
  },
  {
   "cell_type": "code",
   "execution_count": 3,
   "metadata": {
    "id": "Nqwi-5ufWp_B",
    "tags": []
   },
   "outputs": [],
   "source": [
    "import os\n",
    "\n",
    "PROJECT_ID = \"qwiklabs-gcp-01-862c669e3148\"  # @param {type: \"string\", placeholder: \"[your-project-id]\", isTemplate: true}\n",
    "if not PROJECT_ID or PROJECT_ID == \"qwiklabs-gcp-01-862c669e3148\":\n",
    "    PROJECT_ID = str(os.environ.get(\"GOOGLE_CLOUD_PROJECT\"))\n",
    "\n",
    "LOCATION = \"us-east1\""
   ]
  },
  {
   "cell_type": "code",
   "execution_count": 4,
   "metadata": {
    "id": "QqRWdPGmW3NJ",
    "tags": []
   },
   "outputs": [],
   "source": [
    "client = genai.Client(vertexai=True, project=PROJECT_ID, location=LOCATION)"
   ]
  },
  {
   "cell_type": "markdown",
   "metadata": {
    "id": "OnFPpCRtXRl4"
   },
   "source": [
    "### Load model\n",
    "\n",
    "Learn more about all [Gemini models on Vertex AI](https://cloud.google.com/vertex-ai/generative-ai/docs/learn/models#gemini-models)."
   ]
  },
  {
   "cell_type": "code",
   "execution_count": 5,
   "metadata": {
    "id": "IQYu_9SvXQah",
    "tags": []
   },
   "outputs": [],
   "source": [
    "MODEL_ID = \"gemini-2.5-flash\"  # @param {type: \"string\"}"
   ]
  },
  {
   "cell_type": "markdown",
   "metadata": {
    "id": "cVOtUNJ5X0PY"
   },
   "source": [
    "## Prompt engineering best practices"
   ]
  },
  {
   "cell_type": "markdown",
   "metadata": {
    "id": "uv_e0fEPX60q"
   },
   "source": [
    "Prompt engineering is all about how to design your prompts so that the response is what you were indeed hoping to see.\n",
    "\n",
    "The idea of using \"unfancy\" prompts is to minimize the noise in your prompt to reduce the possibility of the LLM misinterpreting the intent of the prompt. Below are a few guidelines on how to engineer \"unfancy\" prompts.\n",
    "\n",
    "In this section, you'll cover the following best practices when engineering prompts:\n",
    "\n",
    "* Be concise\n",
    "* Be specific, and well-defined\n",
    "* Ask one task at a time\n",
    "* Improve response quality by including examples\n",
    "* Turn generative tasks to classification tasks to improve safety"
   ]
  },
  {
   "cell_type": "markdown",
   "metadata": {
    "id": "0pY4XX0OX9_Y"
   },
   "source": [
    "### Be concise"
   ]
  },
  {
   "cell_type": "markdown",
   "metadata": {
    "id": "xlRpxyxGYA1K"
   },
   "source": [
    "🛑 Not recommended. The prompt below is unnecessarily verbose."
   ]
  },
  {
   "cell_type": "code",
   "execution_count": 6,
   "metadata": {
    "id": "YKV4G-CfXdbi",
    "tags": []
   },
   "outputs": [
    {
     "data": {
      "text/markdown": [
       "That's a fantastic niche! Dried flowers evoke a sense of timelessness, rustic charm, and lasting beauty. Here are some name ideas, categorized by the vibe they convey:\n",
       "\n",
       "**I. Evoking Longevity & Preservation:**\n",
       "\n",
       "1.  **Everlasting Blooms:** Direct, clear, and emphasizes durability.\n",
       "2.  **The Preserved Petal:** Elegant and highlights the \"kept\" nature.\n",
       "3.  **Forever Floral:** Simple, memorable, and speaks to lasting beauty.\n",
       "4.  **Lasting Petals Co.:** Modern and emphasizes the enduring quality.\n",
       "5.  **Timeless Tangles:** A bit whimsical, hinting at interesting arrangements.\n",
       "6.  **Dried & True:** A clever play on \"tried and true,\" suggesting reliability and enduring beauty.\n",
       "7.  **The Enduring Stem:** Sophisticated and focused on the preserved structure.\n",
       "8.  **Heirloom Botanicals:** Suggests value, history, and something passed down.\n",
       "\n",
       "**II. Rustic & Natural Vibe:**\n",
       "\n",
       "9.  **Wild & Preserved:** Captures a natural, untamed aesthetic.\n",
       "10. **Dry Meadow Blooms:** Evokes a serene, natural landscape.\n",
       "11. **Earth & Stem:** Grounded, organic, and simple.\n",
       "12. **The Gathered Petal:** Implies hand-selected and carefully arranged.\n",
       "13. **Harvested Hues:** Focuses on the natural colors and the act of collection.\n",
       "14. **Sun-Drenched Stems:** Suggests a natural drying process and warmth.\n",
       "15. **Attic Bloom:** A slightly whimsical, nostalgic feel, like treasures found.\n",
       "\n",
       "**III. Artistic & Curated:**\n",
       "\n",
       "16. **Muted Bloom Studio:** Highlights the subdued color palette and creative space.\n",
       "17. **The Botanical Preserve:** Sounds high-end and focused on botanical art.\n",
       "18. **Whispering Stems:** Evocative and suggests a delicate, serene beauty.\n",
       "19. **Faded Flora:** Honest and artistic, embracing the faded beauty.\n",
       "20. **Curated Keepsakes:** Emphasizes the selection process and their purpose as memories.\n",
       "21. **Still Life Blooms:** Connects to art, suggesting beautiful, unchanging arrangements.\n",
       "22. **The Dry Garden Atelier:** \"Atelier\" adds a touch of sophisticated artistry.\n",
       "\n",
       "**IV. Simple & Modern:**\n",
       "\n",
       "23. **AeroFlora:** \"Aero\" for air-dried, \"Flora\" for flowers – sleek and modern.\n",
       "24. **Petal & Preserve:** Clean, direct, and sophisticated.\n",
       "25. **The Everbloom Collective:** Suggests a modern brand and community.\n",
       "26. **Dried. Bloom. Create.** (or similar short, action-oriented phrases)\n",
       "27. **Bouquet & Beyond:** Implies dried bouquets are just the beginning of their offerings.\n",
       "\n",
       "**Tips for Choosing:**\n",
       "\n",
       "*   **Say it Aloud:** Does it roll off the tongue? Is it easy to remember and pronounce?\n",
       "*   **Check Availability:** Is the domain name available? What about social media handles?\n",
       "*   **Consider Your Brand:** What overall feeling do you want customers to have? Rustic? Elegant? Whimsical? Modern?\n",
       "*   **Target Audience:** Who are you trying to attract?\n",
       "*   **Logo Potential:** Does the name lend itself to a good visual logo?\n",
       "\n",
       "Good luck with your beautiful new venture!"
      ],
      "text/plain": [
       "<IPython.core.display.Markdown object>"
      ]
     },
     "metadata": {},
     "output_type": "display_data"
    }
   ],
   "source": [
    "prompt = \"What do you think could be a good name for a flower shop that specializes in selling bouquets of dried flowers more than fresh flowers?\"\n",
    "\n",
    "response = client.models.generate_content(model=MODEL_ID, contents=prompt)\n",
    "display(Markdown(response.text))"
   ]
  },
  {
   "cell_type": "markdown",
   "metadata": {
    "id": "YrJexRHJYnmC"
   },
   "source": [
    "✅ Recommended. The prompt below is to the point and concise."
   ]
  },
  {
   "cell_type": "code",
   "execution_count": 7,
   "metadata": {
    "id": "VHetn9lCYrXB",
    "tags": []
   },
   "outputs": [
    {
     "data": {
      "text/markdown": [
       "Here are some name suggestions for a flower shop specializing in dried flower bouquets, categorized by the vibe they evoke:\n",
       "\n",
       "**Classic & Elegant:**\n",
       "\n",
       "1.  **The Everbloom Studio:** Implies lasting beauty and a creative space.\n",
       "2.  **Preserved Petals:** Simple, direct, and elegant.\n",
       "3.  **Timeless Stems:** Focuses on the enduring nature of dried flowers.\n",
       "4.  **Apothecary Blooms:** Suggests a curated, old-world charm and natural beauty.\n",
       "5.  **Heritage Floral:** Implies tradition, quality, and lasting value.\n",
       "6.  **The Botanical Preserve:** Evokes scientific care and lasting beauty.\n",
       "7.  **Curated Dry Flora:** Modern, sophisticated, and highlights careful selection.\n",
       "\n",
       "**Rustic & Earthy:**\n",
       "\n",
       "8.  **Thistle & Twine:** A classic rustic combination, hinting at natural elements.\n",
       "9.  **Wild Bloom & Preserve:** Suggests natural, untamed beauty that's been captured.\n",
       "10. **The Dried Posy:** \"Posy\" adds a charming, rustic touch.\n",
       "11. **Earthen Petals:** Connects to the natural origin and dried state.\n",
       "12. **Sun-Kissed Stems:** Implies natural drying and a warm aesthetic.\n",
       "13. **Root & Bloom Dried:** Grounded and focused on the complete plant cycle.\n",
       "\n",
       "**Modern & Minimalist:**\n",
       "\n",
       "14. **Bloom. Dried.** (Simple, impactful, memorable)\n",
       "15. **The Permanent Petal:** Bold and highlights longevity.\n",
       "16. **Still Life Florals:** Connects to art and lasting beauty.\n",
       "17. **Dry Botanical Co.** (Short, professional, and clear)\n",
       "18. **Everlasting. Studio.** (Clean, contemporary)\n",
       "19. **Flora Static:** \"Static\" implies unchanging beauty.\n",
       "\n",
       "**Whimsical & Charming:**\n",
       "\n",
       "20. **Whispering Blooms:** Evokes a gentle, soft, and perhaps nostalgic feeling.\n",
       "21. **Memory Meadow:** Suggests flowers that hold stories and last forever.\n",
       "22. **Faded & Found:** Implies discovering beauty in aged elements.\n",
       "23. **The Un-Wilt Shop:** Playful and highlights the key benefit.\n",
       "24. **Petal Dust & Dreams:** Romantic and whimsical.\n",
       "25. **Everglow Florals:** Suggests a gentle, lasting radiance.\n",
       "\n",
       "**Tips for Choosing:**\n",
       "\n",
       "*   **Say it out loud:** How does it sound? Is it easy to remember and pronounce?\n",
       "*   **Check availability:** Is the domain name available? Social media handles?\n",
       "*   **Reflects your brand:** Does the name align with the overall aesthetic and feel you want for your shop?\n",
       "*   **Target Audience:** Who are you trying to attract? A modern minimalist, a rustic bohemian, or someone more classic?\n",
       "\n",
       "Good luck with your new shop!"
      ],
      "text/plain": [
       "<IPython.core.display.Markdown object>"
      ]
     },
     "metadata": {},
     "output_type": "display_data"
    }
   ],
   "source": [
    "prompt = \"Suggest a name for a flower shop that sells bouquets of dried flowers\"\n",
    "\n",
    "response = client.models.generate_content(model=MODEL_ID, contents=prompt)\n",
    "display(Markdown(response.text))"
   ]
  },
  {
   "cell_type": "markdown",
   "metadata": {
    "id": "eXTAvdOHY0OC"
   },
   "source": [
    "### Be specific, and well-defined"
   ]
  },
  {
   "cell_type": "markdown",
   "metadata": {
    "id": "FTH4GEIgY1dp"
   },
   "source": [
    "Suppose that you want to brainstorm creative ways to describe Earth."
   ]
  },
  {
   "cell_type": "markdown",
   "metadata": {
    "id": "o5BmXBiGY4KC"
   },
   "source": [
    "🛑 The prompt below might be a bit too generic (which is certainly OK if you'd like to ask a generic question!)"
   ]
  },
  {
   "cell_type": "code",
   "execution_count": 8,
   "metadata": {
    "id": "eHBaMvv7Y6mR",
    "tags": []
   },
   "outputs": [
    {
     "data": {
      "text/markdown": [
       "Earth, often called the \"Blue Planet,\" is truly a remarkable and unique celestial body. Here's a comprehensive overview:\n",
       "\n",
       "**1. The Basics:**\n",
       "\n",
       "*   **Third Planet from the Sun:** Earth is the third planet in our solar system, situated within the \"Goldilocks Zone\"—the habitable zone where conditions are just right for liquid water to exist on its surface.\n",
       "*   **Only Known Abode of Life:** It is currently the only planet we know of that unequivocally harbors life, from microscopic organisms to complex multi-cellular beings like humans.\n",
       "*   **Age:** Approximately 4.54 billion years old.\n",
       "\n",
       "**2. Key Statistics:**\n",
       "\n",
       "*   **Diameter:** ~12,742 kilometers (7,918 miles) at the equator.\n",
       "*   **Surface Area:** ~510 million square kilometers, 71% covered by water and 29% by land.\n",
       "*   **Mass:** ~5.97 x 10^24 kg.\n",
       "*   **Rotation Period (Day):** ~23 hours, 56 minutes, 4 seconds.\n",
       "*   **Orbital Period (Year):** ~365.25 days.\n",
       "*   **Natural Satellites:** One – the Moon.\n",
       "\n",
       "**3. Physical Characteristics:**\n",
       "\n",
       "*   **Shape:** An oblate spheroid, meaning it's slightly flattened at the poles and bulges at the equator due to its rotation.\n",
       "*   **Internal Structure (Layers):**\n",
       "    *   **Crust:** The thin, rocky outermost layer (oceanic and continental).\n",
       "    *   **Mantle:** A thick, semi-solid layer of silicate rock that flows slowly over geological timescales.\n",
       "    *   **Outer Core:** A liquid layer of iron and nickel, responsible for generating Earth's magnetic field.\n",
       "    *   **Inner Core:** A solid ball of iron and nickel, extremely hot and under immense pressure.\n",
       "*   **Atmosphere:** A protective blanket of gases, primarily nitrogen (78%), oxygen (21%), argon (0.9%), and trace amounts of carbon dioxide, water vapor, and other gases. It shields us from harmful solar radiation, regulates temperature, and provides breathable air.\n",
       "*   **Hydrosphere:** Encompasses all the water on Earth, including oceans, lakes, rivers, glaciers, ice caps, and groundwater. The vast oceans play a crucial role in regulating global climate.\n",
       "*   **Magnetosphere:** Earth's magnetic field, generated by the outer core, protects the planet from the solar wind and cosmic rays, preventing atmospheric erosion and enabling life to thrive.\n",
       "\n",
       "**4. Dynamic Systems:**\n",
       "\n",
       "*   **Plate Tectonics:** The Earth's crust is broken into large \"plates\" that are constantly moving, colliding, spreading apart, and sliding past each other. This process causes earthquakes, volcanic activity, and the formation of mountains, ocean trenches, and continents.\n",
       "*   **Weather and Climate:** Driven by solar energy, atmospheric circulation, and the water cycle, Earth experiences diverse weather patterns and climates, from deserts to rainforests, polar ice caps to tropical zones.\n",
       "*   **Water Cycle:** The continuous movement of water on, above, and below the surface of the Earth. It's essential for all known forms of life.\n",
       "\n",
       "**5. Life on Earth:**\n",
       "\n",
       "*   **Biodiversity:** Earth boasts an incredible variety of life forms, adapted to almost every conceivable environment. This biodiversity is a complex web of interconnected species, crucial for maintaining ecosystem health.\n",
       "*   **Ecosystems:** Interacting communities of living organisms and their physical environment. These range from vast oceans to tiny microbiomes.\n",
       "*   **Human Impact:** As the dominant species, humans have profoundly impacted Earth's environment through activities like agriculture, industrialization, and urbanization.\n",
       "\n",
       "**6. Earth as Humanity's Home:**\n",
       "\n",
       "*   Earth provides all the resources necessary for human civilization: breathable air, drinkable water, fertile land for food, and raw materials for building and technology.\n",
       "*   It is the cradle of all human cultures, societies, and history.\n",
       "\n",
       "**7. Challenges and the Future:**\n",
       "\n",
       "*   Earth currently faces significant environmental challenges, including climate change, pollution, deforestation, resource depletion, and biodiversity loss.\n",
       "*   Understanding and mitigating these issues is crucial for the long-term health of the planet and the well-being of future generations.\n",
       "\n",
       "In essence, Earth is a complex, interconnected system of land, water, air, and life, operating in delicate balance. It's a vibrant, living planet, a testament to the wonders of the cosmos, and our shared responsibility to protect."
      ],
      "text/plain": [
       "<IPython.core.display.Markdown object>"
      ]
     },
     "metadata": {},
     "output_type": "display_data"
    }
   ],
   "source": [
    "prompt = \"Tell me about Earth\"\n",
    "\n",
    "response = client.models.generate_content(model=MODEL_ID, contents=prompt)\n",
    "display(Markdown(response.text))"
   ]
  },
  {
   "cell_type": "markdown",
   "metadata": {
    "id": "4iyvEbteZnFL"
   },
   "source": [
    "✅ Recommended. The prompt below is specific and well-defined."
   ]
  },
  {
   "cell_type": "code",
   "execution_count": 9,
   "metadata": {
    "id": "JQ80z8urZnne",
    "tags": []
   },
   "outputs": [
    {
     "data": {
      "text/markdown": [
       "Earth stands out from all other known planets, both within our solar system and the thousands of exoplanets discovered, due to a unique combination of factors that have allowed complex, diverse, and abundant life to thrive. Here are the key ways Earth is unique:\n",
       "\n",
       "1.  **Abundant, Stable Liquid Water on the Surface:** While water ice is common and subsurface oceans might exist on moons like Europa and Enceladus, Earth is the only known planet with vast oceans of liquid water stably present on its surface for billions of years. This is fundamental for life as we know it.\n",
       "\n",
       "2.  **Oxygen-Rich Atmosphere (Biologically Produced):** Earth's atmosphere is about 21% oxygen, a highly reactive gas. This oxygen was largely produced by photosynthetic life (plants, algae, cyanobacteria) over geological timescales. No other known planet has such a high concentration of free oxygen in its atmosphere, especially one produced by life itself.\n",
       "\n",
       "3.  **Active Plate Tectonics:** Earth is the only known body in our solar system with active, large-scale plate tectonics. This process constantly recycles the planet's crust, drives volcanism, forms continents, and plays a crucial role in regulating Earth's long-term climate by cycling carbon between the atmosphere and the Earth's interior.\n",
       "\n",
       "4.  **Strong Global Magnetic Field (Magnetosphere):** Generated by its liquid outer core, Earth's powerful magnetic field deflects harmful solar wind and cosmic radiation, preventing the stripping away of our atmosphere and protecting life on the surface. While some gas giants have stronger fields, no other rocky planet in our solar system has such a robust and protective magnetosphere.\n",
       "\n",
       "5.  **Presence of an Ozone Layer:** A direct consequence of Earth's oxygen-rich atmosphere, the ozone layer in the stratosphere absorbs most of the Sun's harmful ultraviolet (UV) radiation, protecting life on the surface from its damaging effects.\n",
       "\n",
       "6.  **Disproportionately Large Moon:** Earth's Moon is unusually large relative to its parent planet compared to most other planets and their satellites. This massive moon stabilizes Earth's axial tilt, preventing drastic wobbles that could lead to extreme climate variations, and generates significant tides that may have played a role in the evolution of life.\n",
       "\n",
       "7.  **Long-Term Climate Stability (The Carbon Cycle):** The interplay between plate tectonics, liquid water, and life creates a self-regulating carbon cycle that helps maintain Earth's surface temperature within a relatively narrow range suitable for life over billions of years, despite changes in solar output.\n",
       "\n",
       "8.  **The Existence of Complex, Multicellular, and Intelligent Life:** While the possibility of microbial life elsewhere is a topic of intense scientific investigation, Earth is the only place we know of that hosts complex, multicellular organisms, and, uniquely, intelligent, self-aware beings capable of exploring the cosmos.\n",
       "\n",
       "9.  **Perfect Position in the Habitable Zone (Goldilocks Zone):** Earth orbits its star at just the right distance where temperatures allow for liquid water to exist on its surface. While other planets and exoplanets may be in their stars' habitable zones, Earth has all the *other* necessary conditions that make this zone truly \"habitable\" for advanced life.\n",
       "\n",
       "It's this rare and intricate combination of geological activity, atmospheric composition, orbital dynamics, and the resulting emergence of life that makes Earth truly unique among all known celestial bodies."
      ],
      "text/plain": [
       "<IPython.core.display.Markdown object>"
      ]
     },
     "metadata": {},
     "output_type": "display_data"
    }
   ],
   "source": [
    "prompt = \"Generate a list of ways that makes Earth unique compared to other planets\"\n",
    "\n",
    "response = client.models.generate_content(model=MODEL_ID, contents=prompt)\n",
    "display(Markdown(response.text))"
   ]
  },
  {
   "cell_type": "markdown",
   "metadata": {
    "id": "R5kmfZYHZsJ7"
   },
   "source": [
    "### Ask one task at a time"
   ]
  },
  {
   "cell_type": "markdown",
   "metadata": {
    "id": "rsAezxeYZuUN"
   },
   "source": [
    "🛑 Not recommended. The prompt below has two parts to the question that could be asked separately."
   ]
  },
  {
   "cell_type": "code",
   "execution_count": 10,
   "metadata": {
    "id": "ElywPXpuZtWf",
    "tags": []
   },
   "outputs": [
    {
     "data": {
      "text/markdown": [
       "These are two fascinating and distinct questions! Let's break them down.\n",
       "\n",
       "---\n",
       "\n",
       "### What's the Best Method of Boiling Water?\n",
       "\n",
       "\"Best\" can depend on your priorities: speed, energy efficiency, convenience, or safety.\n",
       "\n",
       "**The Overall \"Best\" for most household scenarios is generally an Electric Kettle.**\n",
       "\n",
       "**Why an Electric Kettle is often the best:**\n",
       "\n",
       "1.  **Speed:** Electric kettles are typically the fastest method. They have a dedicated heating element immersed directly in the water, which allows for very efficient heat transfer. Gas stovetops often lose a lot of heat to the surrounding air, and electric stovetops can take time to heat up their elements and transfer that heat to a pot.\n",
       "2.  **Energy Efficiency:** They are highly energy-efficient because they only heat the water directly and usually have auto-shutoff features that prevent over-boiling and wasted energy. Stovetop boiling, especially with gas, can be less efficient due to heat loss.\n",
       "3.  **Convenience & Safety:** Many electric kettles have automatic shut-off features once the water reaches boiling point, preventing dry-boiling and potential hazards. They are also cordless, making pouring safe and easy. You don't need to monitor them constantly.\n",
       "4.  **Portability:** You can use them anywhere there's an electrical outlet.\n",
       "\n",
       "**Other Methods and Their Pros/Cons:**\n",
       "\n",
       "*   **Stovetop (Pot/Kettle):**\n",
       "    *   **Pros:** Versatile (gas or electric stove), no extra appliance needed if you already have a stove, good for large volumes.\n",
       "    *   **Cons:** Slower than an electric kettle, less energy-efficient (especially gas), requires more monitoring, can boil dry if forgotten.\n",
       "*   **Microwave:**\n",
       "    *   **Pros:** Convenient for very small amounts (e.g., a single cup of water), no extra pot needed.\n",
       "    *   **Cons:** Very slow for larger volumes, can heat unevenly, poses a slight risk of \"superheating\" water (where it doesn't boil but violently flashes to steam when disturbed, which can be dangerous). Generally not recommended for boiling.\n",
       "*   **Immersion Heater:**\n",
       "    *   **Pros:** Highly portable, can heat water quickly.\n",
       "    *   **Cons:** **Potentially dangerous** if not used correctly (electrocution risk, can overheat plastic containers), requires constant supervision, not a common household item.\n",
       "*   **Campfire/Outdoor Stove:**\n",
       "    *   **Pros:** No electricity needed, great for camping.\n",
       "    *   **Cons:** Slow, inefficient, requires fuel, not practical for indoor use.\n",
       "\n",
       "**In summary:** For the average household, an **electric kettle** offers the best combination of speed, efficiency, safety, and convenience for boiling water.\n",
       "\n",
       "---\n",
       "\n",
       "### Why is the Sky Blue?\n",
       "\n",
       "The blue color of the sky is primarily due to a phenomenon called **Rayleigh Scattering**.\n",
       "\n",
       "Here's a breakdown of how it works:\n",
       "\n",
       "1.  **Sunlight is White Light:** Sunlight, which appears white to us, is actually composed of all the colors of the rainbow (red, orange, yellow, green, blue, indigo, violet). Each color has a different wavelength, with red having the longest and violet the shortest.\n",
       "\n",
       "2.  **Earth's Atmosphere:** Our atmosphere is made up of tiny gas molecules, primarily nitrogen (N2) and oxygen (O2), along with small amounts of other gases and particles.\n",
       "\n",
       "3.  **Scattering of Light:** When sunlight enters the Earth's atmosphere, it collides with these tiny gas molecules. This collision causes the light to scatter in all directions.\n",
       "\n",
       "4.  **Wavelength Matters (Rayleigh Scattering):** The key to why the sky is blue is that **shorter wavelengths of light (like blue and violet) are scattered much more efficiently by these tiny atmospheric molecules than longer wavelengths (like red and orange).** Imagine the blue light bouncing off the molecules like a super bouncy ball, while red light is more like a bowling ball that just pushes through.\n",
       "\n",
       "5.  **Blue Dominates:** As sunlight travels through the atmosphere, the blue and violet light gets scattered in every direction across the sky. When you look up, you see this scattered blue light from all around you, making the sky appear blue.\n",
       "\n",
       "6.  **Why Not Violet?** Violet light actually scatters even *more* than blue light, as it has a shorter wavelength. However, there are two main reasons why we see blue rather than violet:\n",
       "    *   The sun's light isn't equally distributed across the spectrum; it emits slightly less violet light than blue light.\n",
       "    *   Our eyes are more sensitive to blue light than to violet light.\n",
       "\n",
       "**What about Sunsets and Sunrises?**\n",
       "\n",
       "When the sun is low in the sky (sunrise or sunset), its light has to travel through a much greater amount of atmosphere to reach your eyes. This means even more of the blue and violet light gets scattered away and diffused out of your line of sight. What's left to reach your eyes directly are the longer-wavelength colors – reds, oranges, and yellows – which scatter less, creating those beautiful warm hues.\n",
       "\n",
       "In essence, the sky is blue because the tiny molecules in our atmosphere are much better at scattering blue light than any other color."
      ],
      "text/plain": [
       "<IPython.core.display.Markdown object>"
      ]
     },
     "metadata": {},
     "output_type": "display_data"
    }
   ],
   "source": [
    "prompt = \"What's the best method of boiling water and why is the sky blue?\"\n",
    "\n",
    "response = client.models.generate_content(model=MODEL_ID, contents=prompt)\n",
    "display(Markdown(response.text))"
   ]
  },
  {
   "cell_type": "markdown",
   "metadata": {
    "id": "ejzahazBZ8vk"
   },
   "source": [
    "✅ Recommended. The prompts below asks one task a time."
   ]
  },
  {
   "cell_type": "code",
   "execution_count": 11,
   "metadata": {
    "id": "C5ckp2F0Z_Ba",
    "tags": []
   },
   "outputs": [
    {
     "data": {
      "text/markdown": [
       "There isn't a single \"best\" method for boiling water, as the optimal choice depends on your priorities: **speed, energy efficiency, convenience, volume, safety, and available resources.**\n",
       "\n",
       "Here's a breakdown of common methods, highlighting their strengths and weaknesses:\n",
       "\n",
       "---\n",
       "\n",
       "### 1. Electric Kettle (Overall Best for Most People)\n",
       "\n",
       "*   **Pros:**\n",
       "    *   **Speed:** Extremely fast for small to medium volumes (e.g., 1-2 liters). Often faster than a stovetop.\n",
       "    *   **Energy Efficiency:** Very efficient as the heating element is directly in contact with the water.\n",
       "    *   **Convenience:** Simple to use, portable (needs an outlet), and most have an automatic shut-off feature for safety. No monitoring required.\n",
       "    *   **Safety:** Less risk of burns than a stovetop element, especially with auto shut-off.\n",
       "*   **Cons:**\n",
       "    *   Requires electricity.\n",
       "    *   Initial purchase cost.\n",
       "    *   Limited by volume capacity.\n",
       "*   **Best for:** Everyday kitchen use, making tea, coffee, instant noodles, or quickly starting pasta water.\n",
       "\n",
       "---\n",
       "\n",
       "### 2. Induction Stovetop (Best for Speed & Efficiency on a Cooktop)\n",
       "\n",
       "*   **Pros:**\n",
       "    *   **Speed:** Extremely fast, often rivaling or exceeding electric kettles for larger volumes.\n",
       "    *   **Energy Efficiency:** Highly efficient because it directly heats the pot via magnetic fields, minimizing heat loss.\n",
       "    *   **Safety:** The cooktop surface itself doesn't get as hot as gas or electric coil, and it only heats when a compatible pot is on it.\n",
       "    *   **Control:** Precise temperature control.\n",
       "*   **Cons:**\n",
       "    *   Requires specific induction-compatible cookware (magnetic bottom).\n",
       "    *   Higher initial cost for the cooktop.\n",
       "    *   Requires electricity.\n",
       "*   **Best for:** Modern kitchens, larger volumes of water, and those prioritizing speed and energy efficiency from a cooktop.\n",
       "\n",
       "---\n",
       "\n",
       "### 3. Gas Stovetop\n",
       "\n",
       "*   **Pros:**\n",
       "    *   **Speed:** Fast, especially with a high BTU burner and a good pot.\n",
       "    *   **Control:** Visible flame allows for easy heat adjustment.\n",
       "    *   **Energy Source:** Can sometimes work during power outages (if ignited manually).\n",
       "*   **Cons:**\n",
       "    *   **Energy Efficiency:** Less efficient than electric kettles or induction, as a significant amount of heat escapes around the pot.\n",
       "    *   **Safety:** Open flame, risk of burns, and potential for gas leaks (though modern stoves are very safe).\n",
       "    *   Emits some greenhouse gases and indoor air pollutants.\n",
       "*   **Best for:** General kitchen use if you have a gas range, especially for larger pots.\n",
       "\n",
       "---\n",
       "\n",
       "### 4. Electric Coil / Radiant Stovetop\n",
       "\n",
       "*   **Pros:**\n",
       "    *   Very common in many homes.\n",
       "*   **Cons:**\n",
       "    *   **Speed:** Generally the slowest stovetop method, as the element itself needs to heat up first, then transfer heat to the pot.\n",
       "    *   **Energy Efficiency:** Least efficient stovetop method due to heat loss from the element.\n",
       "    *   **Safety:** Elements remain hot for a long time after being turned off.\n",
       "*   **Best for:** If it's the only type of stovetop you have available.\n",
       "\n",
       "---\n",
       "\n",
       "### 5. Microwave (Least Recommended for Boiling)\n",
       "\n",
       "*   **Pros:**\n",
       "    *   Convenient for very small amounts (e.g., a single mug).\n",
       "*   **Cons:**\n",
       "    *   **Safety:** Can superheat water, meaning it gets hotter than its boiling point without bubbling. Disturbing it (e.g., adding a tea bag) can cause it to violently erupt, leading to severe burns.\n",
       "    *   **No Rolling Boil:** Doesn't typically achieve a vigorous, rolling boil necessary for proper sanitization or even optimal tea steeping.\n",
       "    *   **Energy Efficiency:** Less efficient for boiling than an electric kettle, especially for larger amounts.\n",
       "*   **Best for:** Quickly warming a single cup of water, but *exercise extreme caution and consider other methods first.*\n",
       "\n",
       "---\n",
       "\n",
       "### 6. Immersion Heater (Best for Travel/Portability)\n",
       "\n",
       "*   **Pros:**\n",
       "    *   **Portability:** Very compact and easy to travel with.\n",
       "    *   **Speed:** Fast for small amounts, as it directly heats the water.\n",
       "    *   **Efficiency:** High efficiency due to direct contact.\n",
       "*   **Cons:**\n",
       "    *   **Safety:** Must be fully submerged when in use. Can be dangerous if left unattended or improperly used (risk of fire/burns). No auto shut-off.\n",
       "    *   Limited to small volumes.\n",
       "*   **Best for:** Travel, dorm rooms, emergencies, or when an electric kettle isn't available. Use with extreme care.\n",
       "\n",
       "---\n",
       "\n",
       "### 7. Campfire / Portable Stove (Best for Off-Grid / Outdoors)\n",
       "\n",
       "*   **Pros:**\n",
       "    *   Works without electricity or piped gas.\n",
       "    *   Essential for camping, emergencies, or off-grid living.\n",
       "*   **Cons:**\n",
       "    *   **Speed:** Varies greatly depending on the heat source (type of wood, stove fuel, wind conditions). Can be slow.\n",
       "    *   **Efficiency:** Generally less efficient due to heat loss to the environment.\n",
       "    *   **Convenience:** Requires fuel, setup, and ventilation.\n",
       "*   **Best for:** Camping, backpacking, survival situations, or power outages.\n",
       "\n",
       "---\n",
       "\n",
       "### General Tips for Faster/More Efficient Boiling:\n",
       "\n",
       "1.  **Use a Lid:** Always cover your pot or kettle. This traps heat and significantly speeds up boiling time while reducing energy consumption.\n",
       "2.  **Only Boil What You Need:** Don't fill a large kettle to the brim if you only need one cup of water.\n",
       "3.  **Start with Hot Tap Water (if safe):** If your tap water is hot enough and safe to drink, using it can give you a head start, though this is marginal for most modern kettles. (Note: Some advise against drinking hot tap water due to potential for dissolved minerals/contaminants from pipes).\n",
       "4.  **Use a Clean Kettle/Pot:** Limescale buildup in an electric kettle can reduce its efficiency over time. Descale regularly.\n",
       "5.  **Choose the Right Pot:** A pot with a wider base and a sturdy, heat-conductive material (like stainless steel or copper-bottomed) will heat more efficiently on a stovetop.\n",
       "\n",
       "---\n",
       "\n",
       "**In summary:**\n",
       "\n",
       "*   **For most kitchens and everyday use:** An **electric kettle** is the winner for speed, efficiency, and convenience.\n",
       "*   **For larger volumes in a modern kitchen:** An **induction stovetop** is unparalleled for speed and efficiency.\n",
       "*   **For off-grid or emergencies:** A **campfire** or **portable stove** is your go-to."
      ],
      "text/plain": [
       "<IPython.core.display.Markdown object>"
      ]
     },
     "metadata": {},
     "output_type": "display_data"
    }
   ],
   "source": [
    "prompt = \"What's the best method of boiling water?\"\n",
    "\n",
    "response = client.models.generate_content(model=MODEL_ID, contents=prompt)\n",
    "display(Markdown(response.text))"
   ]
  },
  {
   "cell_type": "code",
   "execution_count": 12,
   "metadata": {
    "id": "KwUzhud4aA89",
    "tags": []
   },
   "outputs": [
    {
     "data": {
      "text/markdown": [
       "The sky appears blue primarily due to a phenomenon called **Rayleigh scattering**. Here's a breakdown of how it works:\n",
       "\n",
       "1.  **Sunlight is White Light:** Sunlight, which appears white to us, is actually composed of all the colors of the rainbow (a spectrum of different wavelengths). Blue and violet light have shorter wavelengths, while red and orange light have longer wavelengths.\n",
       "\n",
       "2.  **Earth's Atmosphere:** Our atmosphere is made up of tiny molecules, primarily nitrogen (about 78%) and oxygen (about 21%). These molecules are much smaller than the wavelength of visible light.\n",
       "\n",
       "3.  **Rayleigh Scattering:** When sunlight enters the Earth's atmosphere, these tiny nitrogen and oxygen molecules scatter light in all directions. Rayleigh scattering states that **shorter wavelengths of light (like blue and violet) are scattered much more effectively than longer wavelengths (like red, orange, and yellow)**. Imagine it like hitting a smaller obstacle – the smaller, bluer light waves are more easily deflected.\n",
       "\n",
       "4.  **Why Blue, Not Violet?**\n",
       "    *   Violet light is scattered even *more* strongly than blue light.\n",
       "    *   However, the sun emits slightly less violet light than blue light.\n",
       "    *   More importantly, our eyes are more sensitive to blue light than they are to violet light. So, even though violet is scattered, we perceive the scattered light primarily as blue.\n",
       "\n",
       "5.  **What Happens to Other Colors?** The longer wavelengths (red, orange, yellow) are scattered much less. They tend to pass through the atmosphere more directly, which is why the sun itself still looks yellow or white to us.\n",
       "\n",
       "**In summary:**\n",
       "\n",
       "When sunlight reaches our atmosphere, the tiny air molecules scatter the blue and violet light in all directions across the sky. This scattered blue light reaches our eyes from every angle, making the sky appear blue. The other colors, like red and yellow, mostly pass straight through.\n",
       "\n",
       "**This also explains other phenomena:**\n",
       "\n",
       "*   **Sunsets and Sunrises:** When the sun is low on the horizon, its light has to travel through a much greater amount of atmosphere. By the time it reaches your eyes, most of the blue and violet light has been scattered away, leaving primarily the longer-wavelength red and orange light to be seen, resulting in beautiful red and orange skies.\n",
       "*   **Space is Black:** In space, there's no atmosphere to scatter light, so there's nothing to make the \"sky\" appear blue. That's why astronauts see a black sky even when the sun is shining."
      ],
      "text/plain": [
       "<IPython.core.display.Markdown object>"
      ]
     },
     "metadata": {},
     "output_type": "display_data"
    }
   ],
   "source": [
    "prompt = \"Why is the sky blue?\"\n",
    "\n",
    "response = client.models.generate_content(model=MODEL_ID, contents=prompt)\n",
    "display(Markdown(response.text))"
   ]
  },
  {
   "cell_type": "markdown",
   "metadata": {
    "id": "PJIL2RTQaGcT"
   },
   "source": [
    "### Watch out for hallucinations"
   ]
  },
  {
   "cell_type": "markdown",
   "metadata": {
    "id": "8Y8kYxrSaHE9"
   },
   "source": [
    "Although LLMs have been trained on a large amount of data, they can generate text containing statements not grounded in truth or reality; these responses from the LLM are often referred to as \"hallucinations\" due to their limited memorization capabilities. Note that simply prompting the LLM to provide a citation isn't a fix to this problem, as there are instances of LLMs providing false or inaccurate citations. Dealing with hallucinations is a fundamental challenge of LLMs and an ongoing research area, so it is important to be cognizant that LLMs may seem to give you confident, correct-sounding statements that are in fact incorrect.\n",
    "\n",
    "Note that if you intend to use LLMs for the creative use cases, hallucinating could actually be quite useful."
   ]
  },
  {
   "cell_type": "markdown",
   "metadata": {
    "id": "8NY5nAGeaJYS"
   },
   "source": [
    "Try the prompt like the one below repeatedly. We set the temperature to `1.0` so that it takes more risks in its choices. It's possible that it may provide an inaccurate, but confident answer."
   ]
  },
  {
   "cell_type": "code",
   "execution_count": 20,
   "metadata": {
    "id": "QALPjEILaM62",
    "tags": []
   },
   "outputs": [
    {
     "data": {
      "text/markdown": [
       "Today is **Monday, May 13, 2024**."
      ],
      "text/plain": [
       "<IPython.core.display.Markdown object>"
      ]
     },
     "metadata": {},
     "output_type": "display_data"
    }
   ],
   "source": [
    "generation_config = GenerateContentConfig(temperature=1.0)\n",
    "\n",
    "prompt = \"What day is it today?\"\n",
    "\n",
    "response = client.models.generate_content(model=MODEL_ID, contents=prompt)\n",
    "display(Markdown(response.text))"
   ]
  },
  {
   "cell_type": "markdown",
   "metadata": {
    "id": "BRkwzbgRbhKt"
   },
   "source": [
    "Since LLMs do not have access to real-time information without further integrations, you may have noticed it hallucinates what day it is today in some of the outputs."
   ]
  },
  {
   "cell_type": "markdown",
   "metadata": {
    "id": "3c811e310d02"
   },
   "source": [
    "### Using system instructions to guardrail the model from irrelevant responses\n",
    "\n",
    "How can we attempt to reduce the chances of irrelevant responses and hallucinations?\n",
    "\n",
    "One way is to provide the LLM with [system instructions](https://cloud.google.com/vertex-ai/generative-ai/docs/learn/prompts/system-instruction-introduction).\n",
    "\n",
    "Let's see how system instructions works and how you can use them to reduce hallucinations or irrelevant questions for a travel chatbot.\n",
    "\n",
    "Suppose we ask a simple question about one of Italy's most famous tourist spots."
   ]
  },
  {
   "cell_type": "code",
   "execution_count": 21,
   "metadata": {
    "id": "rB6zJU76biFK",
    "tags": []
   },
   "outputs": [
    {
     "data": {
      "text/markdown": [
       "Milan offers a wealth of incredible sights! For sightseeing, the **Piazza del Duomo** is undoubtedly the best place to start.\n",
       "\n",
       "Here's why:\n",
       "*   **Milan Cathedral (Duomo di Milano):** This magnificent Gothic cathedral is the city's most iconic landmark. You can explore its intricate interior, climb to the rooftop for breathtaking views of the city and even the Alps on a clear day, and admire the thousands of statues and spires.\n",
       "*   **Galleria Vittorio Emanuele II:** Located right next to the Duomo, this stunning 19th-century shopping arcade is an architectural marvel in itself, often called \"Milan's drawing room.\" Even if you're not shopping, it's worth walking through to admire the glass dome, mosaics, and historic cafes.\n",
       "*   **Royal Palace of Milan (Palazzo Reale):** Also on the Piazza, this former royal residence now hosts major art exhibitions.\n",
       "*   **Museum of the Twentieth Century (Museo del Novecento):** Offers modern and contemporary Italian art, with fantastic views of the Duomo from its upper floors.\n",
       "\n",
       "By focusing on Piazza del Duomo, you can experience several of Milan's top attractions within a very short walking distance!"
      ],
      "text/plain": [
       "<IPython.core.display.Markdown object>"
      ]
     },
     "metadata": {},
     "output_type": "display_data"
    }
   ],
   "source": [
    "generation_config = GenerateContentConfig(temperature=1.0)\n",
    "\n",
    "chat = client.chats.create(\n",
    "    model=MODEL_ID,\n",
    "    config=GenerateContentConfig(\n",
    "        system_instruction=[\n",
    "            \"Hello! You are an AI chatbot for a travel web site.\",\n",
    "            \"Your mission is to provide helpful queries for travelers.\",\n",
    "            \"Remember that before you answer a question, you must check to see if it complies with your mission.\",\n",
    "            \"If not, you can say, Sorry I can't answer that question.\",\n",
    "        ]\n",
    "    ),\n",
    ")\n",
    "\n",
    "prompt = \"What is the best place for sightseeing in Milan, Italy?\"\n",
    "\n",
    "response = chat.send_message(prompt)\n",
    "display(Markdown(response.text))"
   ]
  },
  {
   "cell_type": "markdown",
   "metadata": {
    "id": "WZa-Qcf9cF4A"
   },
   "source": [
    "Now let us pretend to be a user asks the chatbot a question that is unrelated to travel."
   ]
  },
  {
   "cell_type": "code",
   "execution_count": 22,
   "metadata": {
    "id": "AZKBIDr2cGnu",
    "tags": []
   },
   "outputs": [
    {
     "data": {
      "text/markdown": [
       "Sorry, I can't answer that question. My mission is to provide helpful queries for travelers."
      ],
      "text/plain": [
       "<IPython.core.display.Markdown object>"
      ]
     },
     "metadata": {},
     "output_type": "display_data"
    }
   ],
   "source": [
    "prompt = \"How do I make pizza dough at home?\"\n",
    "\n",
    "response = chat.send_message(prompt)\n",
    "display(Markdown(response.text))"
   ]
  },
  {
   "cell_type": "markdown",
   "metadata": {
    "id": "JiUYIhwpctCy"
   },
   "source": [
    "You can see that this way, a guardrail in the prompt prevented the chatbot from veering off course."
   ]
  },
  {
   "cell_type": "markdown",
   "metadata": {
    "id": "ZuuDhA37cvmP"
   },
   "source": [
    "### Turn generative tasks into classification tasks to reduce output variability"
   ]
  },
  {
   "cell_type": "markdown",
   "metadata": {
    "id": "kUCUrsUzczmb"
   },
   "source": [
    "#### Generative tasks lead to higher output variability"
   ]
  },
  {
   "cell_type": "markdown",
   "metadata": {
    "id": "a1xASHAkc46n"
   },
   "source": [
    "The prompt below results in an open-ended response, useful for brainstorming, but response is highly variable."
   ]
  },
  {
   "cell_type": "code",
   "execution_count": 23,
   "metadata": {
    "id": "nPfXQWIacwRf",
    "tags": []
   },
   "outputs": [
    {
     "data": {
      "text/markdown": [
       "That's fantastic! Programming is a super valuable skill, and the best way to improve is by *building things*. Forget just watching tutorials – get your hands dirty!\n",
       "\n",
       "Here are a few programming activity recommendations, ranging from creative to practical, with specific project ideas:\n",
       "\n",
       "---\n",
       "\n",
       "### 1. **Build a Simple 2D Game**\n",
       "\n",
       "*   **Why it's great:** Games are incredibly engaging, provide immediate visual feedback, and force you to think about logic, rules, and user interaction. It's a fun way to learn core programming concepts.\n",
       "*   **What you'll learn:** Variables, loops, conditionals, functions, event handling, object-oriented programming (if you go deeper), basic graphics, and problem-solving.\n",
       "*   **Suggested tools/languages:**\n",
       "    *   **Python with Pygame:** Excellent for beginners. Python is readable, and Pygame handles graphics easily.\n",
       "    *   **JavaScript with HTML5 Canvas:** If you're interested in web development, this lets you build games that run directly in a browser.\n",
       "    *   **Scratch:** If you're a complete beginner and want a block-based visual approach first.\n",
       "*   **Project Ideas:**\n",
       "    *   **Pong Clone:** Classic two-player paddle game. Teaches movement, collision detection, and scoring.\n",
       "    *   **Snake Game:** Guide a snake to eat food and grow longer. Teaches array/list manipulation, game states, and simple AI.\n",
       "    *   **Flappy Bird Clone:** Simple tap-to-fly mechanic. Teaches continuous movement, physics (gravity), and collision detection.\n",
       "    *   **\"Guess the Number\" (text-based first):** Simple input/output, loops, and conditionals. Then try making a graphical version!\n",
       "\n",
       "---\n",
       "\n",
       "### 2. **Create an Interactive Web Page / Small Web Application**\n",
       "\n",
       "*   **Why it's great:** Web development is a highly in-demand skill, and it's incredibly satisfying to build something people can access through a browser. You get immediate visual results.\n",
       "*   **What you'll learn:**\n",
       "    *   **HTML:** Structuring content.\n",
       "    *   **CSS:** Styling and design (making it look good!).\n",
       "    *   **JavaScript:** Adding interactivity, dynamic content, and logic.\n",
       "    *   Basic UI/UX principles.\n",
       "*   **Suggested tools/languages:** Just a web browser and a text editor (VS Code is popular and free).\n",
       "*   **Project Ideas:**\n",
       "    *   **Personal Portfolio Page:** A simple one-page site about yourself, your hobbies, and any projects you've done. Great for showcasing your skills.\n",
       "    *   **Calculator:** Build a fully functional calculator using HTML for buttons, CSS for styling, and JavaScript for the math logic.\n",
       "    *   **To-Do List App:** Add items, mark them as complete, delete them. Teaches DOM manipulation and basic data storage (even just in the browser's memory).\n",
       "    *   **Simple Quiz Game:** Ask a series of questions and give a score at the end. Teaches conditional logic and managing user input.\n",
       "    *   **Weather App (using an API):** Learn how to fetch data from a public API (like OpenWeatherMap) and display it on your page. This is a step towards more complex apps.\n",
       "\n",
       "---\n",
       "\n",
       "### 3. **Automate a Small Task / Build a Utility Tool**\n",
       "\n",
       "*   **Why it's great:** Programming isn't just about big apps; it's also about making your life easier. These projects are practical, immediately useful, and often don't require complex graphics.\n",
       "*   **What you'll learn:** File input/output, string manipulation, system interaction, working with external libraries, and real-world problem-solving.\n",
       "*   **Suggested tools/languages:**\n",
       "    *   **Python:** King of scripting and automation due to its vast libraries and readability.\n",
       "    *   **Bash/Shell Scripting:** If you're on Linux/macOS and want to interact directly with your command line.\n",
       "*   **Project Ideas:**\n",
       "    *   **File Organizer:** A script that sorts files in a folder into subfolders based on their type (e.g., all `.jpg` files go into a \"Photos\" folder, `.pdf` files into \"Documents\").\n",
       "    *   **Bulk File Renamer:** Rename a large batch of files (e.g., add a prefix, change dates, standardize names).\n",
       "    *   **Password Generator:** Create a script that generates strong, random passwords with customizable length and character types.\n",
       "    *   **Basic Web Scraper:** (Start small and ethically!) Scrape a simple piece of information from a website, like today's headlines from a news site or movie showtimes. (Use libraries like Python's `requests` and `BeautifulSoup`).\n",
       "    *   **Countdown Timer / Alarm Clock:** A command-line or simple GUI tool that counts down to an event or plays a sound.\n",
       "\n",
       "---\n",
       "\n",
       "### 4. **Explore Data Visualization / Simple Data Analysis**\n",
       "\n",
       "*   **Why it's great:** Data is everywhere, and being able to understand, analyze, and present it is a crucial skill. It combines programming with critical thinking.\n",
       "*   **What you'll learn:** Working with data structures (lists, dictionaries), reading different file formats (CSV, JSON), using libraries for data manipulation and plotting, basic statistical concepts.\n",
       "*   **Suggested tools/languages:**\n",
       "    *   **Python with Pandas, Matplotlib, and Seaborn:** These libraries make data handling and plotting incredibly powerful and accessible.\n",
       "*   **Project Ideas:**\n",
       "    *   **Graph Your Own Data:** Collect some data (e.g., your grades over time, daily steps, favorite sports team scores) and use Python to create different types of charts (line, bar, scatter).\n",
       "    *   **Analyze a Public Dataset:** Find a simple dataset online (e.g., from Kaggle, data.gov, or your city's open data portal – start with something small like city parks, school demographics, or weather data) and try to find interesting patterns or visualize key metrics.\n",
       "    *   **Stock Price Tracker (simple):** Fetch historical stock data (from an API like Yahoo Finance via `yfinance` library) and plot its trend over time.\n",
       "\n",
       "---\n",
       "\n",
       "### **General Tips for Success:**\n",
       "\n",
       "1.  **Start Small:** Don't try to build the next Facebook on your first try. Break down projects into tiny, manageable steps.\n",
       "2.  **Choose Something You're Interested In:** Your motivation will be much higher if you genuinely care about the project's outcome.\n",
       "3.  **Use Version Control (Git & GitHub):** Learn the basics of Git. It's a fundamental tool for all programmers, helps track changes, and provides a great way to showcase your work on GitHub.\n",
       "4.  **Google is Your Best Friend:** You *will* get stuck. Learning how to effectively search for solutions, error messages, and documentation is a key programming skill.\n",
       "5.  **Don't Be Afraid to Fail (or Break Things):** Bugs are part of the process. Debugging is how you learn and improve.\n",
       "6.  **Read Other People's Code:** Look at examples, tutorials, and even small open-source projects. You'll pick up new techniques.\n",
       "7.  **Ask for Help:** If you're truly stuck, reach out to online communities (like Stack Overflow, Reddit's r/learnprogramming), or a teacher/mentor if you have one.\n",
       "8.  **Show Your Work:** Once you've built something cool, share it! It's motivating and great for feedback.\n",
       "\n",
       "---\n",
       "\n",
       "**To help me narrow it down further, tell me:**\n",
       "\n",
       "*   **What programming languages do you already know (even a little)?**\n",
       "*   **What kind of things interest you?** (e.g., art, games, solving puzzles, organizing things, understanding data, websites, mobile apps?)\n",
       "\n",
       "Good luck, and have fun building!"
      ],
      "text/plain": [
       "<IPython.core.display.Markdown object>"
      ]
     },
     "metadata": {},
     "output_type": "display_data"
    }
   ],
   "source": [
    "prompt = \"I'm a high school student. Recommend me a programming activity to improve my skills.\"\n",
    "\n",
    "response = client.models.generate_content(model=MODEL_ID, contents=prompt)\n",
    "display(Markdown(response.text))"
   ]
  },
  {
   "cell_type": "markdown",
   "metadata": {
    "id": "iAmm9wPYc_1o"
   },
   "source": [
    "#### Classification tasks reduces output variability"
   ]
  },
  {
   "cell_type": "markdown",
   "metadata": {
    "id": "VvRpK_0GdCpf"
   },
   "source": [
    "The prompt below results in a choice and may be useful if you want the output to be easier to control."
   ]
  },
  {
   "cell_type": "code",
   "execution_count": 24,
   "metadata": {
    "id": "kYDKh0r2dAqo",
    "tags": []
   },
   "outputs": [
    {
     "data": {
      "text/markdown": [
       "As a high school student, choosing your first programming language is an exciting step! Here's my suggestion and the reasoning behind it:\n",
       "\n",
       "**My Primary Suggestion: a) learn Python**\n",
       "\n",
       "Python is generally considered the **best first programming language** for beginners, especially high school students, for several compelling reasons:\n",
       "\n",
       "**Why Python is Great for High Schoolers:**\n",
       "\n",
       "1.  **Beginner-Friendly Syntax:** Python's code reads almost like plain English. It emphasizes readability and uses clear, concise syntax, which makes it much easier to learn and understand fundamental programming concepts without getting bogged down in complex grammar.\n",
       "2.  **Incredibly Versatile:**\n",
       "    *   **Data Science & AI/Machine Learning:** This is a huge and growing field, and Python dominates it with libraries like NumPy, Pandas, Scikit-learn, TensorFlow, and PyTorch. If you have any interest in data analysis, robotics, or artificial intelligence, Python is a must-have.\n",
       "    *   **Web Development (Backend):** Frameworks like Django and Flask allow you to build powerful web applications and APIs.\n",
       "    *   **Automation & Scripting:** Automate repetitive tasks on your computer (e.g., organizing files, scraping data from websites).\n",
       "    *   **Game Development:** Libraries like Pygame allow for simpler 2D game creation.\n",
       "    *   **Education:** It's often taught as the first language in universities and coding bootcamps because it builds a strong foundation.\n",
       "3.  **Massive Community & Resources:** Python has an enormous and active community. This means there are countless tutorials, online courses (free and paid), documentation, and forums where you can get help when you're stuck.\n",
       "4.  **Immediate Gratification:** You can write short scripts and see results quickly, which is very motivating.\n",
       "5.  **Future-Proof:** Python's relevance continues to grow, making it a valuable skill for future academic and career pursuits.\n",
       "\n",
       "---\n",
       "\n",
       "**When You Might Consider b) learn JavaScript instead:**\n",
       "\n",
       "If your primary interest is **building interactive websites and web applications**, then JavaScript might be a slightly more direct path.\n",
       "\n",
       "**Why JavaScript is Great (especially for Web):**\n",
       "\n",
       "1.  **The Language of the Web:** JavaScript is *essential* for front-end web development. If you want to build websites that are interactive (animations, forms, dynamic content), you *need* JavaScript.\n",
       "2.  **Full-Stack Capability:** With Node.js, JavaScript can also be used for backend development. This means you can build an entire web application (both front-end and backend) using just one language.\n",
       "3.  **Immediate Visual Feedback:** Seeing your code directly change what happens on a webpage can be incredibly engaging and motivating.\n",
       "4.  **Mobile & Desktop Apps:** Frameworks like React Native (for mobile) and Electron (for desktop) allow you to build cross-platform applications using JavaScript.\n",
       "5.  **High Demand:** Web development roles are always in high demand.\n",
       "\n",
       "**Consider JavaScript if:**\n",
       "*   You are passionate about creating websites and web-based tools.\n",
       "*   You want to see instant visual results from your code.\n",
       "*   You're interested in the full \"front-end\" experience.\n",
       "\n",
       "---\n",
       "\n",
       "**Why c) learn Fortran is NOT recommended for a high school student:**\n",
       "\n",
       "1.  **Niche Use Case:** Fortran is primarily used in **high-performance scientific computing, numerical analysis, and engineering simulations**. It's excellent for its specific purpose (number crunching!), but its applications are very specialized.\n",
       "2.  **Not General Purpose:** You won't use Fortran to build websites, mobile apps, desktop applications, or for general scripting and automation.\n",
       "3.  **Steeper Learning Curve for Beginners:** Its syntax is older and less intuitive compared to modern languages like Python or JavaScript. It's not designed for ease of learning or general problem-solving.\n",
       "4.  **Smaller Community/Resources for Beginners:** While there's a community, it's much smaller and more focused on its specific domain, making it harder for a newcomer to find general help and beginner-friendly tutorials.\n",
       "5.  **Less Immediate Practicality:** Unless you're already deeply invested in a specific scientific field that uses Fortran, it's unlikely you'll find many opportunities to apply it in day-to-day projects or general high school contexts.\n",
       "\n",
       "**In summary: Fortran is a powerful language for its domain, but it's not suitable as a first language for a high school student exploring programming.**\n",
       "\n",
       "---\n",
       "\n",
       "**My Strongest Recommendation: Start with Python.**\n",
       "\n",
       "It provides a fantastic foundation, opens up a wide array of possibilities, and is incredibly rewarding to learn. Once you're comfortable with Python, you'll find it much easier to pick up other languages like JavaScript if your interests shift more towards web development. The fundamental concepts you learn in Python (variables, loops, functions, data structures) are universal to almost all programming languages.\n",
       "\n",
       "**How to Start:**\n",
       "*   **Online Tutorials:** Codecademy, freeCodeCamp, W3Schools, Coursera, Udemy all have great beginner Python courses.\n",
       "*   **Books:** Look for \"Python for Beginners\" or \"Learn Python the Hard Way.\"\n",
       "*   **Projects:** The best way to learn is by building! Start with simple projects like a calculator, a \"guess the number\" game, or automating a small task on your computer.\n",
       "\n",
       "Good luck on your coding journey!"
      ],
      "text/plain": [
       "<IPython.core.display.Markdown object>"
      ]
     },
     "metadata": {},
     "output_type": "display_data"
    }
   ],
   "source": [
    "prompt = \"\"\"I'm a high school student. Which of these activities do you suggest and why:\n",
    "a) learn Python\n",
    "b) learn JavaScript\n",
    "c) learn Fortran\n",
    "\"\"\"\n",
    "\n",
    "response = client.models.generate_content(model=MODEL_ID, contents=prompt)\n",
    "display(Markdown(response.text))"
   ]
  },
  {
   "cell_type": "markdown",
   "metadata": {
    "id": "iTd60b1GdIsx"
   },
   "source": [
    "### Improve response quality by including examples"
   ]
  },
  {
   "cell_type": "markdown",
   "metadata": {
    "id": "yJi44NejdJYE"
   },
   "source": [
    "Another way to improve response quality is to add examples in your prompt. The LLM learns in-context from the examples on how to respond. Typically, one to five examples (shots) are enough to improve the quality of responses. Including too many examples can cause the model to over-fit the data and reduce the quality of responses.\n",
    "\n",
    "Similar to classical model training, the quality and distribution of the examples is very important. Pick examples that are representative of the scenarios that you need the model to learn, and keep the distribution of the examples (e.g. number of examples per class in the case of classification) aligned with your actual distribution."
   ]
  },
  {
   "cell_type": "markdown",
   "metadata": {
    "id": "sMbLginWdOKs"
   },
   "source": [
    "#### Zero-shot prompt"
   ]
  },
  {
   "cell_type": "markdown",
   "metadata": {
    "id": "Crh2Loi2dQ0v"
   },
   "source": [
    "Below is an example of zero-shot prompting, where you don't provide any examples to the LLM within the prompt itself."
   ]
  },
  {
   "cell_type": "code",
   "execution_count": null,
   "metadata": {
    "id": "-7myRc-SdTQ4"
   },
   "outputs": [],
   "source": [
    "prompt = \"\"\"Decide whether a Tweet's sentiment is positive, neutral, or negative.\n",
    "\n",
    "Tweet: I loved the new YouTube video you made!\n",
    "Sentiment:\n",
    "\"\"\"\n",
    "\n",
    "response = client.models.generate_content(model=MODEL_ID, contents=prompt)\n",
    "display(Markdown(response.text))"
   ]
  },
  {
   "cell_type": "markdown",
   "metadata": {
    "id": "ucRtPn9SdL64"
   },
   "source": [
    "#### One-shot prompt"
   ]
  },
  {
   "cell_type": "markdown",
   "metadata": {
    "id": "rs0gQH2vdYBi"
   },
   "source": [
    "Below is an example of one-shot prompting, where you provide one example to the LLM within the prompt to give some guidance on what type of response you want."
   ]
  },
  {
   "cell_type": "code",
   "execution_count": null,
   "metadata": {
    "id": "iEq-KxGYdaT5"
   },
   "outputs": [],
   "source": [
    "prompt = \"\"\"Decide whether a Tweet's sentiment is positive, neutral, or negative.\n",
    "\n",
    "Tweet: I loved the new YouTube video you made!\n",
    "Sentiment: positive\n",
    "\n",
    "Tweet: That was awful. Super boring 😠\n",
    "Sentiment:\n",
    "\"\"\"\n",
    "\n",
    "response = client.models.generate_content(model=MODEL_ID, contents=prompt)\n",
    "display(Markdown(response.text))"
   ]
  },
  {
   "cell_type": "markdown",
   "metadata": {
    "id": "JnKLjJzmdfL_"
   },
   "source": [
    "#### Few-shot prompt"
   ]
  },
  {
   "cell_type": "markdown",
   "metadata": {
    "id": "6Zv-9F5OdgI_"
   },
   "source": [
    "Below is an example of few-shot prompting, where you provide a few examples to the LLM within the prompt to give some guidance on what type of response you want."
   ]
  },
  {
   "cell_type": "code",
   "execution_count": null,
   "metadata": {
    "id": "u37P9tG4dk9S"
   },
   "outputs": [],
   "source": [
    "prompt = \"\"\"Decide whether a Tweet's sentiment is positive, neutral, or negative.\n",
    "\n",
    "Tweet: I loved the new YouTube video you made!\n",
    "Sentiment: positive\n",
    "\n",
    "Tweet: That was awful. Super boring 😠\n",
    "Sentiment: negative\n",
    "\n",
    "Tweet: Something surprised me about this video - it was actually original. It was not the same old recycled stuff that I always see. Watch it - you will not regret it.\n",
    "Sentiment:\n",
    "\"\"\"\n",
    "\n",
    "response = client.models.generate_content(model=MODEL_ID, contents=prompt)\n",
    "display(Markdown(response.text))"
   ]
  },
  {
   "cell_type": "markdown",
   "metadata": {
    "id": "wDMD3xb2dvX6"
   },
   "source": [
    "#### Choosing between zero-shot, one-shot, few-shot prompting methods"
   ]
  },
  {
   "cell_type": "markdown",
   "metadata": {
    "id": "s92W0YpNdxJp"
   },
   "source": [
    "Which prompt technique to use will solely depends on your goal. The zero-shot prompts are more open-ended and can give you creative answers, while one-shot and few-shot prompts teach the model how to behave so you can get more predictable answers that are consistent with the examples provided."
   ]
  }
 ],
 "metadata": {
  "colab": {
   "name": "intro_prompt_design.ipynb",
   "toc_visible": true
  },
  "environment": {
   "kernel": "conda-base-py",
   "name": "workbench-notebooks.m133",
   "type": "gcloud",
   "uri": "us-docker.pkg.dev/deeplearning-platform-release/gcr.io/workbench-notebooks:m133"
  },
  "kernelspec": {
   "display_name": "Python 3 (ipykernel) (Local) (Local)",
   "language": "python",
   "name": "conda-base-py"
  },
  "language_info": {
   "codemirror_mode": {
    "name": "ipython",
    "version": 3
   },
   "file_extension": ".py",
   "mimetype": "text/x-python",
   "name": "python",
   "nbconvert_exporter": "python",
   "pygments_lexer": "ipython3",
   "version": "3.10.18"
  }
 },
 "nbformat": 4,
 "nbformat_minor": 4
}
